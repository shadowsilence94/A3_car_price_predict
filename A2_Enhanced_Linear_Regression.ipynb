{
 "cells": [
  {
   "cell_type": "markdown",
   "metadata": {},
   "source": [
    "# A2: Enhanced Linear Regression - Car Price Prediction\n",
    "**Student ID: st126010 - Htut Ko Ko**\n",
    "\n",
    "This notebook implements enhanced linear regression with polynomial features and Lasso regularization."
   ]
  },
  {
   "cell_type": "code",
   "execution_count": 2,
   "metadata": {},
   "outputs": [
    {
     "name": "stdout",
     "output_type": "stream",
     "text": [
      "Libraries imported successfully!\n"
     ]
    }
   ],
   "source": [
    "import pandas as pd\n",
    "import numpy as np\n",
    "import matplotlib.pyplot as plt\n",
    "from sklearn.model_selection import train_test_split\n",
    "from sklearn.preprocessing import StandardScaler, PolynomialFeatures, LabelEncoder\n",
    "from sklearn.metrics import mean_squared_error, r2_score\n",
    "from sklearn.impute import SimpleImputer\n",
    "from sklearn.linear_model import Lasso\n",
    "from LinearRegression import LinearRegression, Ridge\n",
    "import pickle\n",
    "import warnings\n",
    "warnings.filterwarnings('ignore')\n",
    "\n",
    "print(\"Libraries imported successfully!\")"
   ]
  },
  {
   "cell_type": "code",
   "execution_count": 3,
   "metadata": {},
   "outputs": [
    {
     "name": "stdout",
     "output_type": "stream",
     "text": [
      "Dataset shape: (8128, 11)\n"
     ]
    }
   ],
   "source": [
    "# Load and clean data\n",
    "data = pd.read_csv('Cars.csv')\n",
    "data['mileage'] = data['mileage'].str.extract('(\\\\d+\\\\.?\\\\d*)').astype(float)\n",
    "data['engine'] = data['engine'].str.extract('(\\\\d+)').astype(float)\n",
    "data['max_power'] = data['max_power'].str.extract('(\\\\d+\\\\.?\\\\d*)').astype(float)\n",
    "data = data.drop(columns=['name', 'torque'])\n",
    "\n",
    "print(f\"Dataset shape: {data.shape}\")"
   ]
  },
  {
   "cell_type": "code",
   "execution_count": 4,
   "metadata": {},
   "outputs": [
    {
     "name": "stdout",
     "output_type": "stream",
     "text": [
      "Features: 10\n"
     ]
    }
   ],
   "source": [
    "# Define features and target\n",
    "numeric_columns = ['year', 'km_driven', 'mileage', 'engine', 'max_power', 'seats']\n",
    "categorical_columns = ['fuel', 'seller_type', 'transmission', 'owner']\n",
    "feature_names = numeric_columns + categorical_columns\n",
    "\n",
    "X = data[feature_names].copy()\n",
    "y = data['selling_price']\n",
    "\n",
    "print(f\"Features: {len(feature_names)}\")"
   ]
  },
  {
   "cell_type": "code",
   "execution_count": 5,
   "metadata": {},
   "outputs": [
    {
     "name": "stdout",
     "output_type": "stream",
     "text": [
      "Polynomial features shape: (6502, 65)\n"
     ]
    }
   ],
   "source": [
    "# Split data first\n",
    "X_train, X_test, y_train, y_test = train_test_split(X, y, test_size=0.2, random_state=42)\n",
    "\n",
    "# Preprocessing pipeline\n",
    "imputer_num = SimpleImputer(strategy='mean')\n",
    "imputer_cat = SimpleImputer(strategy='most_frequent')\n",
    "\n",
    "X_train[numeric_columns] = imputer_num.fit_transform(X_train[numeric_columns])\n",
    "X_test[numeric_columns] = imputer_num.transform(X_test[numeric_columns])\n",
    "X_train[categorical_columns] = imputer_cat.fit_transform(X_train[categorical_columns])\n",
    "X_test[categorical_columns] = imputer_cat.transform(X_test[categorical_columns])\n",
    "\n",
    "label_encoders = {}\n",
    "for col in categorical_columns:\n",
    "    le = LabelEncoder()\n",
    "    X_train[col] = le.fit_transform(X_train[col].astype(str))\n",
    "    X_test[col] = le.transform(X_test[col].astype(str))\n",
    "    label_encoders[col] = le\n",
    "\n",
    "scaler = StandardScaler()\n",
    "X_train_scaled = scaler.fit_transform(X_train)\n",
    "X_test_scaled = scaler.transform(X_test)\n",
    "\n",
    "poly = PolynomialFeatures(degree=2, include_bias=False)\n",
    "X_train_poly = poly.fit_transform(X_train_scaled)\n",
    "X_test_poly = poly.transform(X_test_scaled)\n",
    "\n",
    "print(f\"Polynomial features shape: {X_train_poly.shape}\")"
   ]
  },
  {
   "cell_type": "code",
   "execution_count": 6,
   "metadata": {},
   "outputs": [
    {
     "name": "stdout",
     "output_type": "stream",
     "text": [
      "Training Linear...\n",
      "Warning: NaN detected in batch gradient descent. Stopping early at iteration 582.\n",
      "Linear: Train R² = nan\n",
      "Training Ridge...\n",
      "Warning: NaN detected in batch gradient descent. Stopping early at iteration 582.\n",
      "Ridge: Train R² = nan\n",
      "Training Lasso...\n",
      "Lasso: Train R² = 0.9052\n",
      "\n",
      "Best model: Lasso with R² = 0.9052\n"
     ]
    }
   ],
   "source": [
    "# Test models\n",
    "models = {\n",
    "    'Linear': LinearRegression(),\n",
    "    'Ridge': Ridge(alpha=1.0),\n",
    "    'Lasso': Lasso(alpha=0.1, max_iter=2000)\n",
    "}\n",
    "\n",
    "results = {}\n",
    "best_model = None\n",
    "best_score = -np.inf\n",
    "\n",
    "for name, model in models.items():\n",
    "    print(f\"Training {name}...\")\n",
    "    model.fit(X_train_poly, y_train)\n",
    "    \n",
    "    # Evaluate\n",
    "    if hasattr(model, 'r2'):\n",
    "        train_r2 = model.r2(X_train_poly, y_train)\n",
    "    else:\n",
    "        y_pred_train = model.predict(X_train_poly)\n",
    "        train_r2 = r2_score(y_train, y_pred_train)\n",
    "    \n",
    "    results[name] = {\n",
    "        'train_r2': train_r2,\n",
    "        'model': model\n",
    "    }\n",
    "    \n",
    "    if train_r2 > best_score:\n",
    "        best_score = train_r2\n",
    "        best_model = (name, model)\n",
    "    \n",
    "    print(f\"{name}: Train R² = {train_r2:.4f}\")\n",
    "\n",
    "print(f\"\\nBest model: {best_model[0]} with R² = {best_score:.4f}\")"
   ]
  },
  {
   "cell_type": "code",
   "execution_count": 7,
   "metadata": {},
   "outputs": [
    {
     "name": "stdout",
     "output_type": "stream",
     "text": [
      "Final Test Results:\n",
      "R² Score: 0.9101\n",
      "MSE: 58914235083.78\n",
      "\n",
      "Model saved as 'a2_model_artifacts.pkl'\n",
      "🎯 Final Test R²: 0.9101\n"
     ]
    }
   ],
   "source": [
    "# Evaluate best model on test set\n",
    "final_model = best_model[1]\n",
    "\n",
    "if hasattr(final_model, 'r2'):\n",
    "    test_r2 = final_model.r2(X_test_poly, y_test)\n",
    "else:\n",
    "    y_pred_test = final_model.predict(X_test_poly)\n",
    "    test_r2 = r2_score(y_test, y_pred_test)\n",
    "\n",
    "y_pred_test = final_model.predict(X_test_poly)\n",
    "test_mse = mean_squared_error(y_test, y_pred_test)\n",
    "\n",
    "print(f\"Final Test Results:\")\n",
    "print(f\"R² Score: {test_r2:.4f}\")\n",
    "print(f\"MSE: {test_mse:.2f}\")\n",
    "\n",
    "# Save model artifacts\n",
    "model_artifacts = {\n",
    "    'model': final_model,\n",
    "    'scaler': scaler,\n",
    "    'poly': poly,\n",
    "    'imputer_num': imputer_num,\n",
    "    'imputer_cat': imputer_cat,\n",
    "    'label_encoders': label_encoders,\n",
    "    'feature_names': feature_names,\n",
    "    'metrics': {\n",
    "        'test_r2': test_r2,\n",
    "        'test_mse': test_mse,\n",
    "        'train_r2': best_score\n",
    "    },\n",
    "    'model_type': best_model[0].lower() + '_polynomial'\n",
    "}\n",
    "\n",
    "with open('a2_model_artifacts.pkl', 'wb') as f:\n",
    "    pickle.dump(model_artifacts, f)\n",
    "\n",
    "print(\"\\nModel saved as 'a2_model_artifacts.pkl'\")\n",
    "print(f\"🎯 Final Test R²: {test_r2:.4f}\")"
   ]
  },
  {
   "cell_type": "code",
   "execution_count": null,
   "metadata": {},
   "outputs": [],
   "source": [
    "# Visualize results\n",
    "plt.figure(figsize=(10, 4))\n",
    "\n",
    "plt.subplot(1, 2, 1)\n",
    "plt.scatter(y_test, y_pred_test, alpha=0.5)\n",
    "plt.plot([y_test.min(), y_test.max()], [y_test.min(), y_test.max()], 'r--', lw=2)\n",
    "plt.xlabel('Actual Price')\n",
    "plt.ylabel('Predicted Price')\n",
    "plt.title(f'A2: Actual vs Predicted (R² = {test_r2:.4f})')\n",
    "\n",
    "plt.subplot(1, 2, 2)\n",
    "model_names = list(results.keys())\n",
    "train_scores = [results[name]['train_r2'] for name in model_names]\n",
    "\n",
    "plt.bar(model_names, train_scores)\n",
    "plt.ylabel('Training R²')\n",
    "plt.title('Model Comparison')\n",
    "plt.ylim(0, 1)\n",
    "\n",
    "plt.tight_layout()\n",
    "plt.show()\n",
    "\n",
    "print(\"\\nA2 Enhanced Linear Regression completed!\")"
   ]
  }
 ],
 "metadata": {
  "kernelspec": {
   "display_name": "3.10.18",
   "language": "python",
   "name": "python3"
  },
  "language_info": {
   "codemirror_mode": {
    "name": "ipython",
    "version": 3
   },
   "file_extension": ".py",
   "mimetype": "text/x-python",
   "name": "python",
   "nbconvert_exporter": "python",
   "pygments_lexer": "ipython3",
   "version": "3.10.18"
  }
 },
 "nbformat": 4,
 "nbformat_minor": 4
}
