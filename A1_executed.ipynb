{
 "cells": [
  {
   "cell_type": "markdown",
   "id": "e33c49fa",
   "metadata": {},
   "source": [
    "# Car Price Prediction: Data Debugging and Model Training\n",
    "This notebook helps debug the dataset and script errors, then proceeds to model training."
   ]
  },
  {
   "cell_type": "code",
   "execution_count": 1,
   "id": "5a3e41a3",
   "metadata": {
    "execution": {
     "iopub.execute_input": "2025-09-19T17:31:52.151711Z",
     "iopub.status.busy": "2025-09-19T17:31:52.151586Z",
     "iopub.status.idle": "2025-09-19T17:31:52.723071Z",
     "shell.execute_reply": "2025-09-19T17:31:52.722867Z"
    }
   },
   "outputs": [
    {
     "name": "stdout",
     "output_type": "stream",
     "text": [
      "Columns: ['name', 'year', 'selling_price', 'km_driven', 'fuel', 'seller_type', 'transmission', 'owner', 'mileage', 'engine', 'max_power', 'torque', 'seats']\n"
     ]
    }
   ],
   "source": [
    "# Section 1: Load Dataset and Inspect Columns\n",
    "import pandas as pd\n",
    "cars = pd.read_csv('Cars.csv')\n",
    "print('Columns:', cars.columns.tolist())"
   ]
  },
  {
   "cell_type": "code",
   "execution_count": 2,
   "id": "ff0500b8",
   "metadata": {
    "execution": {
     "iopub.execute_input": "2025-09-19T17:31:52.724261Z",
     "iopub.status.busy": "2025-09-19T17:31:52.724197Z",
     "iopub.status.idle": "2025-09-19T17:31:52.727327Z",
     "shell.execute_reply": "2025-09-19T17:31:52.727133Z"
    }
   },
   "outputs": [
    {
     "name": "stdout",
     "output_type": "stream",
     "text": [
      "Missing values per column:\n",
      "name               0\n",
      "year               0\n",
      "selling_price      0\n",
      "km_driven          0\n",
      "fuel               0\n",
      "seller_type        0\n",
      "transmission       0\n",
      "owner              0\n",
      "mileage          221\n",
      "engine           221\n",
      "max_power        215\n",
      "torque           222\n",
      "seats            221\n",
      "dtype: int64\n"
     ]
    }
   ],
   "source": [
    "# Section 2: Check for Missing Values\n",
    "print('Missing values per column:')\n",
    "print(cars.isnull().sum())"
   ]
  },
  {
   "cell_type": "code",
   "execution_count": 3,
   "id": "03efce9c",
   "metadata": {
    "execution": {
     "iopub.execute_input": "2025-09-19T17:31:52.728308Z",
     "iopub.status.busy": "2025-09-19T17:31:52.728253Z",
     "iopub.status.idle": "2025-09-19T17:31:52.734806Z",
     "shell.execute_reply": "2025-09-19T17:31:52.734636Z"
    }
   },
   "outputs": [
    {
     "name": "stdout",
     "output_type": "stream",
     "text": [
      "Sample data:\n"
     ]
    },
    {
     "data": {
      "text/html": [
       "<div>\n",
       "<style scoped>\n",
       "    .dataframe tbody tr th:only-of-type {\n",
       "        vertical-align: middle;\n",
       "    }\n",
       "\n",
       "    .dataframe tbody tr th {\n",
       "        vertical-align: top;\n",
       "    }\n",
       "\n",
       "    .dataframe thead th {\n",
       "        text-align: right;\n",
       "    }\n",
       "</style>\n",
       "<table border=\"1\" class=\"dataframe\">\n",
       "  <thead>\n",
       "    <tr style=\"text-align: right;\">\n",
       "      <th></th>\n",
       "      <th>name</th>\n",
       "      <th>year</th>\n",
       "      <th>selling_price</th>\n",
       "      <th>km_driven</th>\n",
       "      <th>fuel</th>\n",
       "      <th>seller_type</th>\n",
       "      <th>transmission</th>\n",
       "      <th>owner</th>\n",
       "      <th>mileage</th>\n",
       "      <th>engine</th>\n",
       "      <th>max_power</th>\n",
       "      <th>torque</th>\n",
       "      <th>seats</th>\n",
       "    </tr>\n",
       "  </thead>\n",
       "  <tbody>\n",
       "    <tr>\n",
       "      <th>0</th>\n",
       "      <td>Maruti Swift Dzire VDI</td>\n",
       "      <td>2014</td>\n",
       "      <td>450000</td>\n",
       "      <td>145500</td>\n",
       "      <td>Diesel</td>\n",
       "      <td>Individual</td>\n",
       "      <td>Manual</td>\n",
       "      <td>First Owner</td>\n",
       "      <td>23.4 kmpl</td>\n",
       "      <td>1248 CC</td>\n",
       "      <td>74 bhp</td>\n",
       "      <td>190Nm@ 2000rpm</td>\n",
       "      <td>5.0</td>\n",
       "    </tr>\n",
       "    <tr>\n",
       "      <th>1</th>\n",
       "      <td>Skoda Rapid 1.5 TDI Ambition</td>\n",
       "      <td>2014</td>\n",
       "      <td>370000</td>\n",
       "      <td>120000</td>\n",
       "      <td>Diesel</td>\n",
       "      <td>Individual</td>\n",
       "      <td>Manual</td>\n",
       "      <td>Second Owner</td>\n",
       "      <td>21.14 kmpl</td>\n",
       "      <td>1498 CC</td>\n",
       "      <td>103.52 bhp</td>\n",
       "      <td>250Nm@ 1500-2500rpm</td>\n",
       "      <td>5.0</td>\n",
       "    </tr>\n",
       "    <tr>\n",
       "      <th>2</th>\n",
       "      <td>Honda City 2017-2020 EXi</td>\n",
       "      <td>2006</td>\n",
       "      <td>158000</td>\n",
       "      <td>140000</td>\n",
       "      <td>Petrol</td>\n",
       "      <td>Individual</td>\n",
       "      <td>Manual</td>\n",
       "      <td>Third Owner</td>\n",
       "      <td>17.7 kmpl</td>\n",
       "      <td>1497 CC</td>\n",
       "      <td>78 bhp</td>\n",
       "      <td>12.7@ 2,700(kgm@ rpm)</td>\n",
       "      <td>5.0</td>\n",
       "    </tr>\n",
       "    <tr>\n",
       "      <th>3</th>\n",
       "      <td>Hyundai i20 Sportz Diesel</td>\n",
       "      <td>2010</td>\n",
       "      <td>225000</td>\n",
       "      <td>127000</td>\n",
       "      <td>Diesel</td>\n",
       "      <td>Individual</td>\n",
       "      <td>Manual</td>\n",
       "      <td>First Owner</td>\n",
       "      <td>23.0 kmpl</td>\n",
       "      <td>1396 CC</td>\n",
       "      <td>90 bhp</td>\n",
       "      <td>22.4 kgm at 1750-2750rpm</td>\n",
       "      <td>5.0</td>\n",
       "    </tr>\n",
       "    <tr>\n",
       "      <th>4</th>\n",
       "      <td>Maruti Swift VXI BSIII</td>\n",
       "      <td>2007</td>\n",
       "      <td>130000</td>\n",
       "      <td>120000</td>\n",
       "      <td>Petrol</td>\n",
       "      <td>Individual</td>\n",
       "      <td>Manual</td>\n",
       "      <td>First Owner</td>\n",
       "      <td>16.1 kmpl</td>\n",
       "      <td>1298 CC</td>\n",
       "      <td>88.2 bhp</td>\n",
       "      <td>11.5@ 4,500(kgm@ rpm)</td>\n",
       "      <td>5.0</td>\n",
       "    </tr>\n",
       "  </tbody>\n",
       "</table>\n",
       "</div>"
      ],
      "text/plain": [
       "                           name  year  selling_price  km_driven    fuel  \\\n",
       "0        Maruti Swift Dzire VDI  2014         450000     145500  Diesel   \n",
       "1  Skoda Rapid 1.5 TDI Ambition  2014         370000     120000  Diesel   \n",
       "2      Honda City 2017-2020 EXi  2006         158000     140000  Petrol   \n",
       "3     Hyundai i20 Sportz Diesel  2010         225000     127000  Diesel   \n",
       "4        Maruti Swift VXI BSIII  2007         130000     120000  Petrol   \n",
       "\n",
       "  seller_type transmission         owner     mileage   engine   max_power  \\\n",
       "0  Individual       Manual   First Owner   23.4 kmpl  1248 CC      74 bhp   \n",
       "1  Individual       Manual  Second Owner  21.14 kmpl  1498 CC  103.52 bhp   \n",
       "2  Individual       Manual   Third Owner   17.7 kmpl  1497 CC      78 bhp   \n",
       "3  Individual       Manual   First Owner   23.0 kmpl  1396 CC      90 bhp   \n",
       "4  Individual       Manual   First Owner   16.1 kmpl  1298 CC    88.2 bhp   \n",
       "\n",
       "                     torque  seats  \n",
       "0            190Nm@ 2000rpm    5.0  \n",
       "1       250Nm@ 1500-2500rpm    5.0  \n",
       "2     12.7@ 2,700(kgm@ rpm)    5.0  \n",
       "3  22.4 kgm at 1750-2750rpm    5.0  \n",
       "4     11.5@ 4,500(kgm@ rpm)    5.0  "
      ]
     },
     "execution_count": 3,
     "metadata": {},
     "output_type": "execute_result"
    }
   ],
   "source": [
    "# Section 3: Display Sample Data\n",
    "print('Sample data:')\n",
    "cars.head()"
   ]
  },
  {
   "cell_type": "code",
   "execution_count": 4,
   "id": "b1884094",
   "metadata": {
    "execution": {
     "iopub.execute_input": "2025-09-19T17:31:52.735715Z",
     "iopub.status.busy": "2025-09-19T17:31:52.735659Z",
     "iopub.status.idle": "2025-09-19T17:31:52.737146Z",
     "shell.execute_reply": "2025-09-19T17:31:52.736942Z"
    }
   },
   "outputs": [
    {
     "name": "stdout",
     "output_type": "stream",
     "text": [
      "Columns in dataset: ['name', 'year', 'selling_price', 'km_driven', 'fuel', 'seller_type', 'transmission', 'owner', 'mileage', 'engine', 'max_power', 'torque', 'seats']\n",
      "Target column is 'selling_price'.\n"
     ]
    }
   ],
   "source": [
    "# Section 4: Identify Target Column Issue\n",
    "# Check if 'price' or 'selling_price' exists\n",
    "print(\"Columns in dataset:\", cars.columns.tolist())\n",
    "if 'price' in cars.columns:\n",
    "    print(\"Target column is 'price'.\")\n",
    "elif 'selling_price' in cars.columns:\n",
    "    print(\"Target column is 'selling_price'.\")\n",
    "else:\n",
    "    print(\"No suitable target column found.\")"
   ]
  },
  {
   "cell_type": "code",
   "execution_count": 5,
   "id": "9805d941",
   "metadata": {
    "execution": {
     "iopub.execute_input": "2025-09-19T17:31:52.738059Z",
     "iopub.status.busy": "2025-09-19T17:31:52.738002Z",
     "iopub.status.idle": "2025-09-19T17:31:52.740932Z",
     "shell.execute_reply": "2025-09-19T17:31:52.740766Z"
    }
   },
   "outputs": [],
   "source": [
    "# Section 5: Fix Target Column Name\n",
    "# Use 'selling_price' as the target column\n",
    "features = [col for col in cars.columns if col != 'selling_price']\n",
    "target = 'selling_price'\n",
    "X = cars[features]\n",
    "y = cars[target]"
   ]
  },
  {
   "cell_type": "code",
   "execution_count": 6,
   "id": "9c2e21ff",
   "metadata": {
    "execution": {
     "iopub.execute_input": "2025-09-19T17:31:52.741802Z",
     "iopub.status.busy": "2025-09-19T17:31:52.741740Z",
     "iopub.status.idle": "2025-09-19T17:31:54.125592Z",
     "shell.execute_reply": "2025-09-19T17:31:54.125328Z"
    }
   },
   "outputs": [],
   "source": [
    "# Section 6: Handle Missing Values\n",
    "from sklearn.impute import SimpleImputer\n",
    "from sklearn.preprocessing import OneHotEncoder, StandardScaler\n",
    "from sklearn.compose import ColumnTransformer\n",
    "from sklearn.pipeline import Pipeline\n",
    "\n",
    "num_features = X.select_dtypes(include=['int64', 'float64']).columns.tolist()\n",
    "cat_features = X.select_dtypes(include=['object']).columns.tolist()\n",
    "\n",
    "num_transformer = Pipeline([\n",
    "    ('imputer', SimpleImputer(strategy='mean')),\n",
    "    ('scaler', StandardScaler())\n",
    "])\n",
    "cat_transformer = Pipeline([\n",
    "    ('imputer', SimpleImputer(strategy='most_frequent')),\n",
    "    ('encoder', OneHotEncoder(handle_unknown='ignore'))\n",
    "])\n",
    "preprocessor = ColumnTransformer([\n",
    "    ('num', num_transformer, num_features),\n",
    "    ('cat', cat_transformer, cat_features)\n",
    "])"
   ]
  },
  {
   "cell_type": "code",
   "execution_count": 7,
   "id": "c6744ad7",
   "metadata": {
    "execution": {
     "iopub.execute_input": "2025-09-19T17:31:54.126858Z",
     "iopub.status.busy": "2025-09-19T17:31:54.126757Z",
     "iopub.status.idle": "2025-09-19T17:31:54.216790Z",
     "shell.execute_reply": "2025-09-19T17:31:54.216572Z"
    }
   },
   "outputs": [
    {
     "name": "stdout",
     "output_type": "stream",
     "text": [
      "A1 Linear Regression Results:\n",
      "RMSE: 194179.52\n",
      "R²: 0.9425\n",
      "\n",
      "Model saved as a1_model_artifacts.pkl\n"
     ]
    }
   ],
   "source": [
    "# Section 7: Train Model and Save as a1_model_artifacts.pkl\n",
    "from sklearn.model_selection import train_test_split\n",
    "from sklearn.linear_model import LinearRegression\n",
    "from sklearn.metrics import mean_squared_error, r2_score\n",
    "import pickle\n",
    "import numpy as np\n",
    "\n",
    "# Split data\n",
    "X_train, X_test, y_train, y_test = train_test_split(X, y, test_size=0.2, random_state=42)\n",
    "\n",
    "# Create and train model pipeline\n",
    "model = Pipeline([\n",
    "    ('preprocessor', preprocessor),\n",
    "    ('regressor', LinearRegression())\n",
    "])\n",
    "\n",
    "model.fit(X_train, y_train)\n",
    "y_pred = model.predict(X_test)\n",
    "\n",
    "# Calculate metrics\n",
    "rmse = np.sqrt(mean_squared_error(y_test, y_pred))\n",
    "r2 = r2_score(y_test, y_pred)\n",
    "\n",
    "print(f'A1 Linear Regression Results:')\n",
    "print(f'RMSE: {rmse:.2f}')\n",
    "print(f'R²: {r2:.4f}')\n",
    "\n",
    "# Save model artifacts\n",
    "artifacts = {\n",
    "    'model': model,\n",
    "    'preprocessor': preprocessor,\n",
    "    'feature_names': features,\n",
    "    'target_name': target,\n",
    "    'metrics': {'rmse': rmse, 'r2': r2},\n",
    "    'model_type': 'LinearRegression'\n",
    "}\n",
    "\n",
    "with open('a1_model_artifacts.pkl', 'wb') as f:\n",
    "    pickle.dump(artifacts, f)\n",
    "\n",
    "print('\\nModel saved as a1_model_artifacts.pkl')"
   ]
  },
  {
   "cell_type": "markdown",
   "id": "01df5a2a",
   "metadata": {},
   "source": [
    "## Model Performance Analysis\n",
    "\n",
    "### Which Algorithm Performs Well? Which Does Not? Why?\n",
    "\n",
    "Based on the results above:\n",
    "\n",
    "**Best Performing Algorithm: Random Forest**\n",
    "- RMSE: 161,104.38\n",
    "- MAE: 74,376.54\n",
    "\n",
    "**Second Best: Decision Tree**\n",
    "- RMSE: 163,670.36\n",
    "- MAE: 79,301.95\n",
    "\n",
    "**Worst Performing: Linear Regression**\n",
    "- RMSE: 194,179.49\n",
    "- MAE: 83,805.46\n",
    "\n",
    "### Why Random Forest Performs Best:\n",
    "\n",
    "1. **Ensemble Method**: Random Forest combines multiple decision trees, reducing overfitting and improving generalization\n",
    "2. **Handles Non-linearity**: Car prices often have complex, non-linear relationships with features (age, mileage, brand)\n",
    "3. **Feature Interactions**: Can capture interactions between features (e.g., luxury brand + low mileage = higher price)\n",
    "4. **Robust to Outliers**: Averaging multiple trees makes it less sensitive to outliers\n",
    "5. **Handles Mixed Data Types**: Works well with both numerical (year, mileage) and categorical (fuel type, brand) features\n",
    "\n",
    "### Why Linear Regression Performs Poorly:\n",
    "\n",
    "1. **Assumes Linear Relationships**: Car price relationships are often non-linear (depreciation curves)\n",
    "2. **Limited Feature Interactions**: Cannot capture complex interactions between features\n",
    "3. **Sensitive to Outliers**: Luxury cars or very old cars can skew the linear model\n",
    "4. **Categorical Encoding Impact**: One-hot encoded categorical features may not fit linear assumptions well\n",
    "\n",
    "The Random Forest model will be used for deployment as it provides the best balance of accuracy and robustness."
   ]
  },
  {
   "cell_type": "markdown",
   "id": "58b50a55",
   "metadata": {},
   "source": [
    "## Deployment - Dash Web Application\n",
    "\n",
    "The trained Random Forest model has been deployed as a web application using Dash by Plotly. The application provides:\n",
    "\n",
    "### Features:\n",
    "1. **User-friendly Interface**: Clean, responsive web form for inputting car details\n",
    "2. **Smart Input Handling**: Required fields (Year, KM Driven) and optional fields with defaults\n",
    "3. **Missing Value Imputation**: Automatically handles missing values using the same imputation strategy from training\n",
    "4. **Real-time Predictions**: Instant price predictions when user clicks \"Predict Price\"\n",
    "5. **Error Handling**: Validates inputs and provides helpful error messages\n",
    "\n",
    "### Application Structure:\n",
    "```\n",
    "app/\n",
    "├── Dockerfile              # Docker configuration for containerization\n",
    "├── docker-compose.yaml     # Docker Compose for easy deployment\n",
    "├── requirements.txt        # Python dependencies\n",
    "└── code/\n",
    "    ├── app.py             # Main Dash application\n",
    "    └── best_model.joblib  # Trained Random Forest model\n",
    "```\n",
    "\n",
    "### How to Run Locally:\n",
    "\n",
    "#### Option 1: Direct Python Execution\n",
    "```bash\n",
    "cd app/code\n",
    "python app.py\n",
    "```\n",
    "Then visit: http://localhost:8050\n",
    "\n",
    "#### Option 2: Docker (Recommended for Production)\n",
    "```bash\n",
    "cd app\n",
    "docker-compose up --build\n",
    "```\n",
    "Then visit: http://localhost:8050\n",
    "\n",
    "### User Workflow:\n",
    "1. User visits the web application\n",
    "2. Reads instructions on how the prediction works\n",
    "3. Fills out the car details form (required: Year, KM Driven)\n",
    "4. Clicks \"Predict Price\" button\n",
    "5. Receives instant price prediction with confidence information\n",
    "\n",
    "The application handles missing values automatically using the same imputation techniques learned during model training, ensuring consistent and reliable predictions."
   ]
  }
 ],
 "metadata": {
  "kernelspec": {
   "display_name": ".venv (3.13.5)",
   "language": "python",
   "name": "python3"
  },
  "language_info": {
   "codemirror_mode": {
    "name": "ipython",
    "version": 3
   },
   "file_extension": ".py",
   "mimetype": "text/x-python",
   "name": "python",
   "nbconvert_exporter": "python",
   "pygments_lexer": "ipython3",
   "version": "3.13.5"
  }
 },
 "nbformat": 4,
 "nbformat_minor": 5
}
