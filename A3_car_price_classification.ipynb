{
 "cells": [
  {
   "cell_type": "markdown",
   "metadata": {},
   "source": [
    "# Car Price Classification - Assignment 3\n",
    "**Student ID: st126010 - Htut Ko Ko**\n",
    "\n",
    "This project implements a multinomial logistic regression classifier for car price prediction, converting the regression problem into a 4-class classification task with proper data pipeline."
   ]
  },
  {
   "cell_type": "code",
   "execution_count": 1,
   "metadata": {},
   "outputs": [
    {
     "name": "stdout",
     "output_type": "stream",
     "text": [
      "Libraries imported successfully!\n"
     ]
    }
   ],
   "source": [
    "# --- Imports ---\n",
    "import pandas as pd\n",
    "import numpy as np\n",
    "import matplotlib.pyplot as plt\n",
    "from sklearn.model_selection import train_test_split, KFold\n",
    "from sklearn.preprocessing import StandardScaler, LabelEncoder\n",
    "from sklearn.metrics import classification_report, accuracy_score, precision_score, recall_score, f1_score\n",
    "from sklearn.impute import SimpleImputer\n",
    "import mlflow\n",
    "import pickle\n",
    "import warnings\n",
    "warnings.filterwarnings('ignore')\n",
    "\n",
    "print(\"Libraries imported successfully!\")"
   ]
  },
  {
   "cell_type": "code",
   "execution_count": 2,
   "metadata": {},
   "outputs": [
    {
     "name": "stdout",
     "output_type": "stream",
     "text": [
      "Dataset shape: (8128, 13)\n",
      "Columns: ['name', 'year', 'selling_price', 'km_driven', 'fuel', 'seller_type', 'transmission', 'owner', 'mileage', 'engine', 'max_power', 'torque', 'seats']\n"
     ]
    },
    {
     "data": {
      "text/html": [
       "<div>\n",
       "<style scoped>\n",
       "    .dataframe tbody tr th:only-of-type {\n",
       "        vertical-align: middle;\n",
       "    }\n",
       "\n",
       "    .dataframe tbody tr th {\n",
       "        vertical-align: top;\n",
       "    }\n",
       "\n",
       "    .dataframe thead th {\n",
       "        text-align: right;\n",
       "    }\n",
       "</style>\n",
       "<table border=\"1\" class=\"dataframe\">\n",
       "  <thead>\n",
       "    <tr style=\"text-align: right;\">\n",
       "      <th></th>\n",
       "      <th>name</th>\n",
       "      <th>year</th>\n",
       "      <th>selling_price</th>\n",
       "      <th>km_driven</th>\n",
       "      <th>fuel</th>\n",
       "      <th>seller_type</th>\n",
       "      <th>transmission</th>\n",
       "      <th>owner</th>\n",
       "      <th>mileage</th>\n",
       "      <th>engine</th>\n",
       "      <th>max_power</th>\n",
       "      <th>torque</th>\n",
       "      <th>seats</th>\n",
       "    </tr>\n",
       "  </thead>\n",
       "  <tbody>\n",
       "    <tr>\n",
       "      <th>0</th>\n",
       "      <td>Maruti Swift Dzire VDI</td>\n",
       "      <td>2014</td>\n",
       "      <td>450000</td>\n",
       "      <td>145500</td>\n",
       "      <td>Diesel</td>\n",
       "      <td>Individual</td>\n",
       "      <td>Manual</td>\n",
       "      <td>First Owner</td>\n",
       "      <td>23.4 kmpl</td>\n",
       "      <td>1248 CC</td>\n",
       "      <td>74 bhp</td>\n",
       "      <td>190Nm@ 2000rpm</td>\n",
       "      <td>5.0</td>\n",
       "    </tr>\n",
       "    <tr>\n",
       "      <th>1</th>\n",
       "      <td>Skoda Rapid 1.5 TDI Ambition</td>\n",
       "      <td>2014</td>\n",
       "      <td>370000</td>\n",
       "      <td>120000</td>\n",
       "      <td>Diesel</td>\n",
       "      <td>Individual</td>\n",
       "      <td>Manual</td>\n",
       "      <td>Second Owner</td>\n",
       "      <td>21.14 kmpl</td>\n",
       "      <td>1498 CC</td>\n",
       "      <td>103.52 bhp</td>\n",
       "      <td>250Nm@ 1500-2500rpm</td>\n",
       "      <td>5.0</td>\n",
       "    </tr>\n",
       "    <tr>\n",
       "      <th>2</th>\n",
       "      <td>Honda City 2017-2020 EXi</td>\n",
       "      <td>2006</td>\n",
       "      <td>158000</td>\n",
       "      <td>140000</td>\n",
       "      <td>Petrol</td>\n",
       "      <td>Individual</td>\n",
       "      <td>Manual</td>\n",
       "      <td>Third Owner</td>\n",
       "      <td>17.7 kmpl</td>\n",
       "      <td>1497 CC</td>\n",
       "      <td>78 bhp</td>\n",
       "      <td>12.7@ 2,700(kgm@ rpm)</td>\n",
       "      <td>5.0</td>\n",
       "    </tr>\n",
       "    <tr>\n",
       "      <th>3</th>\n",
       "      <td>Hyundai i20 Sportz Diesel</td>\n",
       "      <td>2010</td>\n",
       "      <td>225000</td>\n",
       "      <td>127000</td>\n",
       "      <td>Diesel</td>\n",
       "      <td>Individual</td>\n",
       "      <td>Manual</td>\n",
       "      <td>First Owner</td>\n",
       "      <td>23.0 kmpl</td>\n",
       "      <td>1396 CC</td>\n",
       "      <td>90 bhp</td>\n",
       "      <td>22.4 kgm at 1750-2750rpm</td>\n",
       "      <td>5.0</td>\n",
       "    </tr>\n",
       "    <tr>\n",
       "      <th>4</th>\n",
       "      <td>Maruti Swift VXI BSIII</td>\n",
       "      <td>2007</td>\n",
       "      <td>130000</td>\n",
       "      <td>120000</td>\n",
       "      <td>Petrol</td>\n",
       "      <td>Individual</td>\n",
       "      <td>Manual</td>\n",
       "      <td>First Owner</td>\n",
       "      <td>16.1 kmpl</td>\n",
       "      <td>1298 CC</td>\n",
       "      <td>88.2 bhp</td>\n",
       "      <td>11.5@ 4,500(kgm@ rpm)</td>\n",
       "      <td>5.0</td>\n",
       "    </tr>\n",
       "  </tbody>\n",
       "</table>\n",
       "</div>"
      ],
      "text/plain": [
       "                           name  year  selling_price  km_driven    fuel  \\\n",
       "0        Maruti Swift Dzire VDI  2014         450000     145500  Diesel   \n",
       "1  Skoda Rapid 1.5 TDI Ambition  2014         370000     120000  Diesel   \n",
       "2      Honda City 2017-2020 EXi  2006         158000     140000  Petrol   \n",
       "3     Hyundai i20 Sportz Diesel  2010         225000     127000  Diesel   \n",
       "4        Maruti Swift VXI BSIII  2007         130000     120000  Petrol   \n",
       "\n",
       "  seller_type transmission         owner     mileage   engine   max_power  \\\n",
       "0  Individual       Manual   First Owner   23.4 kmpl  1248 CC      74 bhp   \n",
       "1  Individual       Manual  Second Owner  21.14 kmpl  1498 CC  103.52 bhp   \n",
       "2  Individual       Manual   Third Owner   17.7 kmpl  1497 CC      78 bhp   \n",
       "3  Individual       Manual   First Owner   23.0 kmpl  1396 CC      90 bhp   \n",
       "4  Individual       Manual   First Owner   16.1 kmpl  1298 CC    88.2 bhp   \n",
       "\n",
       "                     torque  seats  \n",
       "0            190Nm@ 2000rpm    5.0  \n",
       "1       250Nm@ 1500-2500rpm    5.0  \n",
       "2     12.7@ 2,700(kgm@ rpm)    5.0  \n",
       "3  22.4 kgm at 1750-2750rpm    5.0  \n",
       "4     11.5@ 4,500(kgm@ rpm)    5.0  "
      ]
     },
     "execution_count": 2,
     "metadata": {},
     "output_type": "execute_result"
    }
   ],
   "source": [
    "# Load the dataset\n",
    "data = pd.read_csv('Cars.csv')\n",
    "print(f\"Dataset shape: {data.shape}\")\n",
    "print(f\"Columns: {list(data.columns)}\")\n",
    "data.head()"
   ]
  },
  {
   "cell_type": "code",
   "execution_count": 3,
   "metadata": {},
   "outputs": [
    {
     "name": "stdout",
     "output_type": "stream",
     "text": [
      "<class 'pandas.core.frame.DataFrame'>\n",
      "RangeIndex: 8128 entries, 0 to 8127\n",
      "Data columns (total 13 columns):\n",
      " #   Column         Non-Null Count  Dtype  \n",
      "---  ------         --------------  -----  \n",
      " 0   name           8128 non-null   object \n",
      " 1   year           8128 non-null   int64  \n",
      " 2   selling_price  8128 non-null   int64  \n",
      " 3   km_driven      8128 non-null   int64  \n",
      " 4   fuel           8128 non-null   object \n",
      " 5   seller_type    8128 non-null   object \n",
      " 6   transmission   8128 non-null   object \n",
      " 7   owner          8128 non-null   object \n",
      " 8   mileage        7907 non-null   object \n",
      " 9   engine         7907 non-null   object \n",
      " 10  max_power      7913 non-null   object \n",
      " 11  torque         7906 non-null   object \n",
      " 12  seats          7907 non-null   float64\n",
      "dtypes: float64(1), int64(3), object(9)\n",
      "memory usage: 825.6+ KB\n"
     ]
    }
   ],
   "source": [
    "# Data info\n",
    "data.info()"
   ]
  },
  {
   "cell_type": "code",
   "execution_count": 4,
   "metadata": {},
   "outputs": [
    {
     "name": "stdout",
     "output_type": "stream",
     "text": [
      "Data cleaning completed\n",
      "<class 'pandas.core.frame.DataFrame'>\n",
      "RangeIndex: 8128 entries, 0 to 8127\n",
      "Data columns (total 11 columns):\n",
      " #   Column         Non-Null Count  Dtype  \n",
      "---  ------         --------------  -----  \n",
      " 0   year           8128 non-null   int64  \n",
      " 1   selling_price  8128 non-null   int64  \n",
      " 2   km_driven      8128 non-null   int64  \n",
      " 3   fuel           8128 non-null   object \n",
      " 4   seller_type    8128 non-null   object \n",
      " 5   transmission   8128 non-null   object \n",
      " 6   owner          8128 non-null   object \n",
      " 7   mileage        7907 non-null   float64\n",
      " 8   engine         7907 non-null   float64\n",
      " 9   max_power      7912 non-null   float64\n",
      " 10  seats          7907 non-null   float64\n",
      "dtypes: float64(4), int64(3), object(4)\n",
      "memory usage: 698.6+ KB\n"
     ]
    }
   ],
   "source": [
    "# Clean non-numeric columns and drop irrelevant ones\n",
    "data['mileage'] = data['mileage'].str.extract('(\\\\d+\\\\.?\\\\d*)').astype(float)\n",
    "data['engine'] = data['engine'].str.extract('(\\\\d+)').astype(float)\n",
    "data['max_power'] = data['max_power'].str.extract('(\\\\d+\\\\.?\\\\d*)').astype(float)\n",
    "data = data.drop(columns=['torque', 'name'])\n",
    "\n",
    "print(\"Data cleaning completed\")\n",
    "data.info()"
   ]
  },
  {
   "cell_type": "code",
   "execution_count": 5,
   "metadata": {},
   "outputs": [
    {
     "name": "stdout",
     "output_type": "stream",
     "text": [
      "Balanced price class distribution:\n",
      "price_class\n",
      "0    3693\n",
      "1    3614\n",
      "2     592\n",
      "3     229\n",
      "Name: count, dtype: int64\n",
      "Class percentages: [45.4 44.5  7.3  2.8]%\n"
     ]
    },
    {
     "data": {
      "image/png": "[encoded data removed]",
      "text/plain": [
       "<Figure size 1000x600 with 1 Axes>"
      ]
     },
     "metadata": {},
     "output_type": "display_data"
    }
   ],
   "source": [
    "# Create balanced price classes for classification\n",
    "def classify_price(price):\n",
    "    if price <= 400000:  # 0-4L\n",
    "        return 0  # Low\n",
    "    elif price <= 1000000:  # 4-10L\n",
    "        return 1  # Medium\n",
    "    elif price <= 3000000:  # 10L-30L\n",
    "        return 2  # High\n",
    "    else:  # >30L\n",
    "        return 3  # Premium\n",
    "\n",
    "data[\"price_class\"] = data[\"selling_price\"].apply(classify_price)\n",
    "\n",
    "print(\"Balanced price class distribution:\")\n",
    "class_counts = data[\"price_class\"].value_counts().sort_index()\n",
    "print(class_counts)\n",
    "print(f\"Class percentages: {(class_counts.values / len(data) * 100).round(1)}%\")\n",
    "\n",
    "# Visualize balanced price class distribution\n",
    "plt.figure(figsize=(10, 6))\n",
    "class_counts.plot(kind=\"bar\", color=[\"lightblue\", \"lightgreen\", \"orange\", \"red\"], alpha=0.7)\n",
    "plt.title(\"Balanced Price Class Distribution\")\n",
    "plt.xlabel(\"Price Class\")\n",
    "plt.ylabel(\"Count\")\n",
    "plt.xticks([0, 1, 2, 3], [\"Low (0-4L)\", \"Medium (4-10L)\", \"High (10-30L)\", \"Premium (>30L)\"], rotation=45)\n",
    "plt.tight_layout()\n",
    "plt.show()"
   ]
  },
  {
   "cell_type": "code",
   "execution_count": 6,
   "metadata": {},
   "outputs": [
    {
     "name": "stdout",
     "output_type": "stream",
     "text": [
      "Numeric features: ['year', 'km_driven', 'mileage', 'engine', 'max_power', 'seats']\n",
      "Categorical features: ['fuel', 'seller_type', 'transmission', 'owner']\n",
      "Total features: 10\n",
      "\n",
      "Missing values before processing:\n",
      "year              0\n",
      "km_driven         0\n",
      "mileage         221\n",
      "engine          221\n",
      "max_power       216\n",
      "seats           221\n",
      "fuel              0\n",
      "seller_type       0\n",
      "transmission      0\n",
      "owner             0\n",
      "price_class       0\n",
      "dtype: int64\n"
     ]
    }
   ],
   "source": [
    "# Define feature columns (same as original)\n",
    "numeric_columns = ['year', 'km_driven', 'mileage', 'engine', 'max_power', 'seats']\n",
    "categorical_columns = ['fuel', 'seller_type', 'transmission', 'owner']\n",
    "feature_names = numeric_columns + categorical_columns\n",
    "\n",
    "print(f\"Numeric features: {numeric_columns}\")\n",
    "print(f\"Categorical features: {categorical_columns}\")\n",
    "print(f\"Total features: {len(feature_names)}\")\n",
    "\n",
    "# Check missing values before processing\n",
    "print(\"\\nMissing values before processing:\")\n",
    "print(data[feature_names + ['price_class']].isnull().sum())"
   ]
  },
  {
   "cell_type": "code",
   "execution_count": 7,
   "metadata": {},
   "outputs": [
    {
     "name": "stdout",
     "output_type": "stream",
     "text": [
      "Feature matrix shape: (8128, 10)\n",
      "Target shape: (8128,)\n",
      "Number of classes: 4\n"
     ]
    }
   ],
   "source": [
    "# Prepare X and y\n",
    "X = data[feature_names].copy()\n",
    "y = data['price_class'].values\n",
    "\n",
    "print(f\"Feature matrix shape: {X.shape}\")\n",
    "print(f\"Target shape: {y.shape}\")\n",
    "print(f\"Number of classes: {len(np.unique(y))}\")"
   ]
  },
  {
   "cell_type": "code",
   "execution_count": 8,
   "metadata": {},
   "outputs": [
    {
     "name": "stdout",
     "output_type": "stream",
     "text": [
      "Training set: (6502, 10)\n",
      "Test set: (1626, 10)\n",
      "Training class distribution:\n",
      "  Class 0: 2954 samples (45.4%)\n",
      "  Class 1: 2891 samples (44.5%)\n",
      "  Class 2: 474 samples (7.3%)\n",
      "  Class 3: 183 samples (2.8%)\n"
     ]
    }
   ],
   "source": [
    "# STEP 1: Split the data FIRST (before any preprocessing)\n",
    "X_train, X_test, y_train, y_test = train_test_split(\n",
    "    X, y, test_size=0.2, random_state=42, stratify=y\n",
    ")\n",
    "\n",
    "print(f\"Training set: {X_train.shape}\")\n",
    "print(f\"Test set: {X_test.shape}\")\n",
    "print(f\"Training class distribution:\")\n",
    "unique, counts = np.unique(y_train, return_counts=True)\n",
    "for cls, count in zip(unique, counts):\n",
    "    print(f\"  Class {cls}: {count} samples ({count/len(y_train)*100:.1f}%)\")"
   ]
  },
  {
   "cell_type": "code",
   "execution_count": 9,
   "metadata": {},
   "outputs": [
    {
     "name": "stdout",
     "output_type": "stream",
     "text": [
      "✅ Missing values imputed\n",
      "Training set missing values: 0\n",
      "Test set missing values: 0\n"
     ]
    }
   ],
   "source": [
    "# STEP 2: Impute missing values (fit on train, transform both)\n",
    "imputer_num = SimpleImputer(strategy='mean')\n",
    "imputer_cat = SimpleImputer(strategy='most_frequent')\n",
    "\n",
    "# Impute numeric columns\n",
    "X_train[numeric_columns] = imputer_num.fit_transform(X_train[numeric_columns])\n",
    "X_test[numeric_columns] = imputer_num.transform(X_test[numeric_columns])\n",
    "\n",
    "# Impute categorical columns\n",
    "X_train[categorical_columns] = imputer_cat.fit_transform(X_train[categorical_columns])\n",
    "X_test[categorical_columns] = imputer_cat.transform(X_test[categorical_columns])\n",
    "\n",
    "print(\"✅ Missing values imputed\")\n",
    "print(f\"Training set missing values: {X_train.isnull().sum().sum()}\")\n",
    "print(f\"Test set missing values: {X_test.isnull().sum().sum()}\")"
   ]
  },
  {
   "cell_type": "code",
   "execution_count": 10,
   "metadata": {},
   "outputs": [
    {
     "name": "stdout",
     "output_type": "stream",
     "text": [
      "✅ Categorical variables encoded\n",
      "Label encoders created for: ['fuel', 'seller_type', 'transmission', 'owner']\n"
     ]
    }
   ],
   "source": [
    "# STEP 3: Encode categorical variables (fit on train, transform both)\n",
    "label_encoders = {}\n",
    "for col in categorical_columns:\n",
    "    label_encoder = LabelEncoder()\n",
    "    X_train[col] = label_encoder.fit_transform(X_train[col].astype(str))\n",
    "    X_test[col] = label_encoder.transform(X_test[col].astype(str))\n",
    "    label_encoders[col] = label_encoder\n",
    "\n",
    "print(\"✅ Categorical variables encoded\")\n",
    "print(f\"Label encoders created for: {list(label_encoders.keys())}\")"
   ]
  },
  {
   "cell_type": "code",
   "execution_count": 11,
   "metadata": {},
   "outputs": [
    {
     "name": "stdout",
     "output_type": "stream",
     "text": [
      "✅ Features scaled\n",
      "Scaled training set shape: (6502, 10)\n",
      "Scaled test set shape: (1626, 10)\n",
      "\n",
      "Data preparation for classification complete.\n"
     ]
    }
   ],
   "source": [
    "# STEP 4: Scale features (fit on train, transform both)\n",
    "scaler = StandardScaler()\n",
    "X_train_scaled = scaler.fit_transform(X_train)\n",
    "X_test_scaled = scaler.transform(X_test)\n",
    "\n",
    "print(\"✅ Features scaled\")\n",
    "print(f\"Scaled training set shape: {X_train_scaled.shape}\")\n",
    "print(f\"Scaled test set shape: {X_test_scaled.shape}\")\n",
    "print(\"\\nData preparation for classification complete.\")"
   ]
  },
  {
   "cell_type": "code",
   "execution_count": 12,
   "metadata": {},
   "outputs": [
    {
     "name": "stdout",
     "output_type": "stream",
     "text": [
      "Custom LogisticRegression imported successfully!\n"
     ]
    }
   ],
   "source": [
    "# Import custom LogisticRegression\n",
    "from LogisticRegression import LogisticRegression\n",
    "\n",
    "print(\"Custom LogisticRegression imported successfully!\")"
   ]
  },
  {
   "cell_type": "code",
   "execution_count": 13,
   "metadata": {},
   "outputs": [
    {
     "name": "stdout",
     "output_type": "stream",
     "text": [
      "MLflow tracking URI: http://mlflow.ml.brain.cs.ait.ac.th/\n",
      "Current experiment: st126010-a3\n"
     ]
    }
   ],
   "source": [
    "# MLflow Setup\n",
    "import os\n",
    "os.environ[\"MLFLOW_TRACKING_URI\"] = \"http://mlflow.ml.brain.cs.ait.ac.th/\"\n",
    "os.environ[\"MLFLOW_TRACKING_USERNAME\"] = \"admin\"\n",
    "os.environ[\"MLFLOW_TRACKING_PASSWORD\"] = \"password\"\n",
    "\n",
    "experiment_name = \"st126010-a3\"\n",
    "mlflow.set_experiment(experiment_name)\n",
    "\n",
    "print(f\"MLflow tracking URI: {mlflow.get_tracking_uri()}\")\n",
    "print(f\"Current experiment: {mlflow.get_experiment_by_name(experiment_name).name}\")"
   ]
  },
  {
   "cell_type": "code",
   "execution_count": 14,
   "metadata": {},
   "outputs": [
    {
     "name": "stdout",
     "output_type": "stream",
     "text": [
      "Custom metrics function defined!\n"
     ]
    }
   ],
   "source": [
    "# Custom classification metrics function\n",
    "def custom_classification_metrics(y_true, y_pred, n_classes):\n",
    "    \"\"\"Calculate custom classification metrics\"\"\"\n",
    "    # Confusion matrix\n",
    "    cm = np.zeros((n_classes, n_classes), dtype=int)\n",
    "    for true_label, pred_label in zip(y_true, y_pred):\n",
    "        cm[true_label, pred_label] += 1\n",
    "    \n",
    "    # Accuracy\n",
    "    accuracy = np.sum(np.diag(cm)) / np.sum(cm)\n",
    "    \n",
    "    # Per-class metrics\n",
    "    precisions = []\n",
    "    recalls = []\n",
    "    f1s = []\n",
    "    \n",
    "    for i in range(n_classes):\n",
    "        tp = cm[i, i]\n",
    "        fp = np.sum(cm[:, i]) - tp\n",
    "        fn = np.sum(cm[i, :]) - tp\n",
    "        \n",
    "        precision = tp / (tp + fp) if (tp + fp) > 0 else 0\n",
    "        recall = tp / (tp + fn) if (tp + fn) > 0 else 0\n",
    "        f1 = 2 * precision * recall / (precision + recall) if (precision + recall) > 0 else 0\n",
    "        \n",
    "        precisions.append(precision)\n",
    "        recalls.append(recall)\n",
    "        f1s.append(f1)\n",
    "    \n",
    "    # Macro averages\n",
    "    macro_precision = np.mean(precisions)\n",
    "    macro_recall = np.mean(recalls)\n",
    "    macro_f1 = np.mean(f1s)\n",
    "    \n",
    "    # Weighted averages\n",
    "    class_counts = np.sum(cm, axis=1)\n",
    "    total_samples = np.sum(class_counts)\n",
    "    weights = class_counts / total_samples\n",
    "    \n",
    "    weighted_f1 = np.sum([f1 * weight for f1, weight in zip(f1s, weights)])\n",
    "    \n",
    "    return {\n",
    "        'accuracy': accuracy,\n",
    "        'macro_precision': macro_precision,\n",
    "        'macro_recall': macro_recall,\n",
    "        'macro_f1': macro_f1,\n",
    "        'weighted_f1': weighted_f1\n",
    "    }\n",
    "\n",
    "print(\"Custom metrics function defined!\")"
   ]
  },
  {
   "cell_type": "code",
   "execution_count": 15,
   "metadata": {},
   "outputs": [
    {
     "name": "stdout",
     "output_type": "stream",
     "text": [
      "\n",
      "Running classification experiments...\n",
      "Run 048aae534d7846a9ad6efe4f0dd75b5c complete. Accuracy: 0.7399\n",
      "🏃 View run none-zeros-0.01-lambda0.01 at: http://mlflow.ml.brain.cs.ait.ac.th/#/experiments/707851046324719182/runs/048aae534d7846a9ad6efe4f0dd75b5c\n",
      "🧪 View experiment at: http://mlflow.ml.brain.cs.ait.ac.th/#/experiments/707851046324719182\n",
      "🏃 View run none-zeros-0.01-lambda0.01 at: http://mlflow.ml.brain.cs.ait.ac.th/#/experiments/707851046324719182/runs/048aae534d7846a9ad6efe4f0dd75b5c\n",
      "🧪 View experiment at: http://mlflow.ml.brain.cs.ait.ac.th/#/experiments/707851046324719182\n",
      "Run 399b83b558774d418df637b5c04038f4 complete. Accuracy: 0.7226\n",
      "🏃 View run none-zeros-0.001-lambda0.01 at: http://mlflow.ml.brain.cs.ait.ac.th/#/experiments/707851046324719182/runs/399b83b558774d418df637b5c04038f4\n",
      "🧪 View experiment at: http://mlflow.ml.brain.cs.ait.ac.th/#/experiments/707851046324719182\n",
      "🏃 View run none-zeros-0.001-lambda0.01 at: http://mlflow.ml.brain.cs.ait.ac.th/#/experiments/707851046324719182/runs/399b83b558774d418df637b5c04038f4\n",
      "🧪 View experiment at: http://mlflow.ml.brain.cs.ait.ac.th/#/experiments/707851046324719182\n",
      "Run 169f24d108dd43af97f143dc13d8f9f8 complete. Accuracy: 0.7171\n",
      "🏃 View run none-zeros-0.0001-lambda0.01 at: http://mlflow.ml.brain.cs.ait.ac.th/#/experiments/707851046324719182/runs/169f24d108dd43af97f143dc13d8f9f8\n",
      "🧪 View experiment at: http://mlflow.ml.brain.cs.ait.ac.th/#/experiments/707851046324719182\n",
      "🏃 View run none-zeros-0.0001-lambda0.01 at: http://mlflow.ml.brain.cs.ait.ac.th/#/experiments/707851046324719182/runs/169f24d108dd43af97f143dc13d8f9f8\n",
      "🧪 View experiment at: http://mlflow.ml.brain.cs.ait.ac.th/#/experiments/707851046324719182\n",
      "Run 849e21cf67f14f29a7083e81acd36a51 complete. Accuracy: 0.7288\n",
      "🏃 View run none-xavier-0.01-lambda0.01 at: http://mlflow.ml.brain.cs.ait.ac.th/#/experiments/707851046324719182/runs/849e21cf67f14f29a7083e81acd36a51\n",
      "🧪 View experiment at: http://mlflow.ml.brain.cs.ait.ac.th/#/experiments/707851046324719182\n",
      "🏃 View run none-xavier-0.01-lambda0.01 at: http://mlflow.ml.brain.cs.ait.ac.th/#/experiments/707851046324719182/runs/849e21cf67f14f29a7083e81acd36a51\n",
      "🧪 View experiment at: http://mlflow.ml.brain.cs.ait.ac.th/#/experiments/707851046324719182\n",
      "Run c2def4f9a0b74dffa5c49c65b014f128 complete. Accuracy: 0.2429\n",
      "🏃 View run none-xavier-0.001-lambda0.01 at: http://mlflow.ml.brain.cs.ait.ac.th/#/experiments/707851046324719182/runs/c2def4f9a0b74dffa5c49c65b014f128\n",
      "🧪 View experiment at: http://mlflow.ml.brain.cs.ait.ac.th/#/experiments/707851046324719182\n",
      "🏃 View run none-xavier-0.001-lambda0.01 at: http://mlflow.ml.brain.cs.ait.ac.th/#/experiments/707851046324719182/runs/c2def4f9a0b74dffa5c49c65b014f128\n",
      "🧪 View experiment at: http://mlflow.ml.brain.cs.ait.ac.th/#/experiments/707851046324719182\n",
      "Run a3f385bf2e344df082c5d6acb6277007 complete. Accuracy: 0.1132\n",
      "🏃 View run none-xavier-0.0001-lambda0.01 at: http://mlflow.ml.brain.cs.ait.ac.th/#/experiments/707851046324719182/runs/a3f385bf2e344df082c5d6acb6277007\n",
      "🧪 View experiment at: http://mlflow.ml.brain.cs.ait.ac.th/#/experiments/707851046324719182\n",
      "🏃 View run none-xavier-0.0001-lambda0.01 at: http://mlflow.ml.brain.cs.ait.ac.th/#/experiments/707851046324719182/runs/a3f385bf2e344df082c5d6acb6277007\n",
      "🧪 View experiment at: http://mlflow.ml.brain.cs.ait.ac.th/#/experiments/707851046324719182\n",
      "Run a869ba61eb75424aabceb29f61c200c9 complete. Accuracy: 0.7399\n",
      "🏃 View run ridge-zeros-0.01-lambda0.01 at: http://mlflow.ml.brain.cs.ait.ac.th/#/experiments/707851046324719182/runs/a869ba61eb75424aabceb29f61c200c9\n",
      "🧪 View experiment at: http://mlflow.ml.brain.cs.ait.ac.th/#/experiments/707851046324719182\n",
      "🏃 View run ridge-zeros-0.01-lambda0.01 at: http://mlflow.ml.brain.cs.ait.ac.th/#/experiments/707851046324719182/runs/a869ba61eb75424aabceb29f61c200c9\n",
      "🧪 View experiment at: http://mlflow.ml.brain.cs.ait.ac.th/#/experiments/707851046324719182\n",
      "Run 21774d0374be488aaa3c566db8d5526b complete. Accuracy: 0.7399\n",
      "🏃 View run ridge-zeros-0.01-lambda0.1 at: http://mlflow.ml.brain.cs.ait.ac.th/#/experiments/707851046324719182/runs/21774d0374be488aaa3c566db8d5526b\n",
      "🧪 View experiment at: http://mlflow.ml.brain.cs.ait.ac.th/#/experiments/707851046324719182\n",
      "🏃 View run ridge-zeros-0.01-lambda0.1 at: http://mlflow.ml.brain.cs.ait.ac.th/#/experiments/707851046324719182/runs/21774d0374be488aaa3c566db8d5526b\n",
      "🧪 View experiment at: http://mlflow.ml.brain.cs.ait.ac.th/#/experiments/707851046324719182\n",
      "Run 72c60d78e2874b4292476608f1a9d204 complete. Accuracy: 0.7399\n",
      "🏃 View run ridge-zeros-0.01-lambda1.0 at: http://mlflow.ml.brain.cs.ait.ac.th/#/experiments/707851046324719182/runs/72c60d78e2874b4292476608f1a9d204\n",
      "🧪 View experiment at: http://mlflow.ml.brain.cs.ait.ac.th/#/experiments/707851046324719182\n",
      "🏃 View run ridge-zeros-0.01-lambda1.0 at: http://mlflow.ml.brain.cs.ait.ac.th/#/experiments/707851046324719182/runs/72c60d78e2874b4292476608f1a9d204\n",
      "🧪 View experiment at: http://mlflow.ml.brain.cs.ait.ac.th/#/experiments/707851046324719182\n",
      "Run 42175f691c3a4ac69b44403b2b3a347e complete. Accuracy: 0.7226\n",
      "🏃 View run ridge-zeros-0.001-lambda0.01 at: http://mlflow.ml.brain.cs.ait.ac.th/#/experiments/707851046324719182/runs/42175f691c3a4ac69b44403b2b3a347e\n",
      "🧪 View experiment at: http://mlflow.ml.brain.cs.ait.ac.th/#/experiments/707851046324719182\n",
      "🏃 View run ridge-zeros-0.001-lambda0.01 at: http://mlflow.ml.brain.cs.ait.ac.th/#/experiments/707851046324719182/runs/42175f691c3a4ac69b44403b2b3a347e\n",
      "🧪 View experiment at: http://mlflow.ml.brain.cs.ait.ac.th/#/experiments/707851046324719182\n",
      "Run a0f637e3659a4bdbb950412e1de79bc0 complete. Accuracy: 0.7226\n",
      "🏃 View run ridge-zeros-0.001-lambda0.1 at: http://mlflow.ml.brain.cs.ait.ac.th/#/experiments/707851046324719182/runs/a0f637e3659a4bdbb950412e1de79bc0\n",
      "🧪 View experiment at: http://mlflow.ml.brain.cs.ait.ac.th/#/experiments/707851046324719182\n",
      "🏃 View run ridge-zeros-0.001-lambda0.1 at: http://mlflow.ml.brain.cs.ait.ac.th/#/experiments/707851046324719182/runs/a0f637e3659a4bdbb950412e1de79bc0\n",
      "🧪 View experiment at: http://mlflow.ml.brain.cs.ait.ac.th/#/experiments/707851046324719182\n",
      "Run 2702c1926eff4cbbb642ae58cb063e9e complete. Accuracy: 0.7226\n",
      "🏃 View run ridge-zeros-0.001-lambda1.0 at: http://mlflow.ml.brain.cs.ait.ac.th/#/experiments/707851046324719182/runs/2702c1926eff4cbbb642ae58cb063e9e\n",
      "🧪 View experiment at: http://mlflow.ml.brain.cs.ait.ac.th/#/experiments/707851046324719182\n",
      "🏃 View run ridge-zeros-0.001-lambda1.0 at: http://mlflow.ml.brain.cs.ait.ac.th/#/experiments/707851046324719182/runs/2702c1926eff4cbbb642ae58cb063e9e\n",
      "🧪 View experiment at: http://mlflow.ml.brain.cs.ait.ac.th/#/experiments/707851046324719182\n",
      "Run 6d4214b04d9b43818733feea82c3f958 complete. Accuracy: 0.7171\n",
      "🏃 View run ridge-zeros-0.0001-lambda0.01 at: http://mlflow.ml.brain.cs.ait.ac.th/#/experiments/707851046324719182/runs/6d4214b04d9b43818733feea82c3f958\n",
      "🧪 View experiment at: http://mlflow.ml.brain.cs.ait.ac.th/#/experiments/707851046324719182\n",
      "🏃 View run ridge-zeros-0.0001-lambda0.01 at: http://mlflow.ml.brain.cs.ait.ac.th/#/experiments/707851046324719182/runs/6d4214b04d9b43818733feea82c3f958\n",
      "🧪 View experiment at: http://mlflow.ml.brain.cs.ait.ac.th/#/experiments/707851046324719182\n",
      "Run 290a8922a6d540ceb498cc3397d7fa30 complete. Accuracy: 0.7171\n",
      "🏃 View run ridge-zeros-0.0001-lambda0.1 at: http://mlflow.ml.brain.cs.ait.ac.th/#/experiments/707851046324719182/runs/290a8922a6d540ceb498cc3397d7fa30\n",
      "🧪 View experiment at: http://mlflow.ml.brain.cs.ait.ac.th/#/experiments/707851046324719182\n",
      "🏃 View run ridge-zeros-0.0001-lambda0.1 at: http://mlflow.ml.brain.cs.ait.ac.th/#/experiments/707851046324719182/runs/290a8922a6d540ceb498cc3397d7fa30\n",
      "🧪 View experiment at: http://mlflow.ml.brain.cs.ait.ac.th/#/experiments/707851046324719182\n",
      "Run faab2f90bd254c749b9d900ab4091bf4 complete. Accuracy: 0.7171\n",
      "🏃 View run ridge-zeros-0.0001-lambda1.0 at: http://mlflow.ml.brain.cs.ait.ac.th/#/experiments/707851046324719182/runs/faab2f90bd254c749b9d900ab4091bf4\n",
      "🧪 View experiment at: http://mlflow.ml.brain.cs.ait.ac.th/#/experiments/707851046324719182\n",
      "🏃 View run ridge-zeros-0.0001-lambda1.0 at: http://mlflow.ml.brain.cs.ait.ac.th/#/experiments/707851046324719182/runs/faab2f90bd254c749b9d900ab4091bf4\n",
      "🧪 View experiment at: http://mlflow.ml.brain.cs.ait.ac.th/#/experiments/707851046324719182\n",
      "Run 165303dea50042ebb68de2f16b116d44 complete. Accuracy: 0.7509\n",
      "🏃 View run ridge-xavier-0.01-lambda0.01 at: http://mlflow.ml.brain.cs.ait.ac.th/#/experiments/707851046324719182/runs/165303dea50042ebb68de2f16b116d44\n",
      "🧪 View experiment at: http://mlflow.ml.brain.cs.ait.ac.th/#/experiments/707851046324719182\n",
      "🏃 View run ridge-xavier-0.01-lambda0.01 at: http://mlflow.ml.brain.cs.ait.ac.th/#/experiments/707851046324719182/runs/165303dea50042ebb68de2f16b116d44\n",
      "🧪 View experiment at: http://mlflow.ml.brain.cs.ait.ac.th/#/experiments/707851046324719182\n",
      "Run d420be3626894fff995c8279987697fd complete. Accuracy: 0.7171\n",
      "🏃 View run ridge-xavier-0.01-lambda0.1 at: http://mlflow.ml.brain.cs.ait.ac.th/#/experiments/707851046324719182/runs/d420be3626894fff995c8279987697fd\n",
      "🧪 View experiment at: http://mlflow.ml.brain.cs.ait.ac.th/#/experiments/707851046324719182\n",
      "🏃 View run ridge-xavier-0.01-lambda0.1 at: http://mlflow.ml.brain.cs.ait.ac.th/#/experiments/707851046324719182/runs/d420be3626894fff995c8279987697fd\n",
      "🧪 View experiment at: http://mlflow.ml.brain.cs.ait.ac.th/#/experiments/707851046324719182\n",
      "Run 998ae80797aa433bb69a731abfd98b99 complete. Accuracy: 0.6950\n",
      "🏃 View run ridge-xavier-0.01-lambda1.0 at: http://mlflow.ml.brain.cs.ait.ac.th/#/experiments/707851046324719182/runs/998ae80797aa433bb69a731abfd98b99\n",
      "🧪 View experiment at: http://mlflow.ml.brain.cs.ait.ac.th/#/experiments/707851046324719182\n",
      "🏃 View run ridge-xavier-0.01-lambda1.0 at: http://mlflow.ml.brain.cs.ait.ac.th/#/experiments/707851046324719182/runs/998ae80797aa433bb69a731abfd98b99\n",
      "🧪 View experiment at: http://mlflow.ml.brain.cs.ait.ac.th/#/experiments/707851046324719182\n",
      "Run e77b080122b6491cb38592326523b7ad complete. Accuracy: 0.3942\n",
      "🏃 View run ridge-xavier-0.001-lambda0.01 at: http://mlflow.ml.brain.cs.ait.ac.th/#/experiments/707851046324719182/runs/e77b080122b6491cb38592326523b7ad\n",
      "🧪 View experiment at: http://mlflow.ml.brain.cs.ait.ac.th/#/experiments/707851046324719182\n",
      "🏃 View run ridge-xavier-0.001-lambda0.01 at: http://mlflow.ml.brain.cs.ait.ac.th/#/experiments/707851046324719182/runs/e77b080122b6491cb38592326523b7ad\n",
      "🧪 View experiment at: http://mlflow.ml.brain.cs.ait.ac.th/#/experiments/707851046324719182\n",
      "Run cf489fa1e186412e800216164d03c48e complete. Accuracy: 0.2823\n",
      "🏃 View run ridge-xavier-0.001-lambda0.1 at: http://mlflow.ml.brain.cs.ait.ac.th/#/experiments/707851046324719182/runs/cf489fa1e186412e800216164d03c48e\n",
      "🧪 View experiment at: http://mlflow.ml.brain.cs.ait.ac.th/#/experiments/707851046324719182\n",
      "🏃 View run ridge-xavier-0.001-lambda0.1 at: http://mlflow.ml.brain.cs.ait.ac.th/#/experiments/707851046324719182/runs/cf489fa1e186412e800216164d03c48e\n",
      "🧪 View experiment at: http://mlflow.ml.brain.cs.ait.ac.th/#/experiments/707851046324719182\n",
      "Run a0b55e4233c14b7bad5a45b276cc81d0 complete. Accuracy: 0.3278\n",
      "🏃 View run ridge-xavier-0.001-lambda1.0 at: http://mlflow.ml.brain.cs.ait.ac.th/#/experiments/707851046324719182/runs/a0b55e4233c14b7bad5a45b276cc81d0\n",
      "🧪 View experiment at: http://mlflow.ml.brain.cs.ait.ac.th/#/experiments/707851046324719182\n",
      "🏃 View run ridge-xavier-0.001-lambda1.0 at: http://mlflow.ml.brain.cs.ait.ac.th/#/experiments/707851046324719182/runs/a0b55e4233c14b7bad5a45b276cc81d0\n",
      "🧪 View experiment at: http://mlflow.ml.brain.cs.ait.ac.th/#/experiments/707851046324719182\n",
      "Run dc2e9a8e484b4b93a505242db89bf890 complete. Accuracy: 0.2423\n",
      "🏃 View run ridge-xavier-0.0001-lambda0.01 at: http://mlflow.ml.brain.cs.ait.ac.th/#/experiments/707851046324719182/runs/dc2e9a8e484b4b93a505242db89bf890\n",
      "🧪 View experiment at: http://mlflow.ml.brain.cs.ait.ac.th/#/experiments/707851046324719182\n",
      "🏃 View run ridge-xavier-0.0001-lambda0.01 at: http://mlflow.ml.brain.cs.ait.ac.th/#/experiments/707851046324719182/runs/dc2e9a8e484b4b93a505242db89bf890\n",
      "🧪 View experiment at: http://mlflow.ml.brain.cs.ait.ac.th/#/experiments/707851046324719182\n",
      "Run d96d91d221904778a459f61a63aa916c complete. Accuracy: 0.3739\n",
      "🏃 View run ridge-xavier-0.0001-lambda0.1 at: http://mlflow.ml.brain.cs.ait.ac.th/#/experiments/707851046324719182/runs/d96d91d221904778a459f61a63aa916c\n",
      "🧪 View experiment at: http://mlflow.ml.brain.cs.ait.ac.th/#/experiments/707851046324719182\n",
      "🏃 View run ridge-xavier-0.0001-lambda0.1 at: http://mlflow.ml.brain.cs.ait.ac.th/#/experiments/707851046324719182/runs/d96d91d221904778a459f61a63aa916c\n",
      "🧪 View experiment at: http://mlflow.ml.brain.cs.ait.ac.th/#/experiments/707851046324719182\n",
      "Run 6fb9db0fd79c466d865eebda7699e64e complete. Accuracy: 0.1482\n",
      "🏃 View run ridge-xavier-0.0001-lambda1.0 at: http://mlflow.ml.brain.cs.ait.ac.th/#/experiments/707851046324719182/runs/6fb9db0fd79c466d865eebda7699e64e\n",
      "🧪 View experiment at: http://mlflow.ml.brain.cs.ait.ac.th/#/experiments/707851046324719182\n",
      "🏃 View run ridge-xavier-0.0001-lambda1.0 at: http://mlflow.ml.brain.cs.ait.ac.th/#/experiments/707851046324719182/runs/6fb9db0fd79c466d865eebda7699e64e\n",
      "🧪 View experiment at: http://mlflow.ml.brain.cs.ait.ac.th/#/experiments/707851046324719182\n",
      "\n",
      "🏆 Best accuracy achieved: 0.7509\n"
     ]
    }
   ],
   "source": [
    "# Experiment configurations\n",
    "experiment_configs = {\n",
    "    'penalties': ['none', 'ridge'],\n",
    "    'init_methods': ['zeros', 'xavier'],\n",
    "    'learning_rates': [0.01, 0.001, 0.0001],\n",
    "    'lambda_regs': [0.01, 0.1, 1.0],\n",
    "    'n_classes': len(np.unique(y_train))\n",
    "}\n",
    "\n",
    "print(\"\\nRunning classification experiments...\")\n",
    "\n",
    "best_accuracy = 0\n",
    "best_model = None\n",
    "best_artifacts = None\n",
    "\n",
    "# Run experiments\n",
    "for penalty in experiment_configs['penalties']:\n",
    "    for init_method in experiment_configs['init_methods']:\n",
    "        for lr in experiment_configs['learning_rates']:\n",
    "            for lambda_reg in experiment_configs['lambda_regs']:\n",
    "                \n",
    "                # Skip invalid combinations\n",
    "                if penalty == 'none' and lambda_reg != 0.01:\n",
    "                    continue\n",
    "\n",
    "                run_name = f\"{penalty}-{init_method}-{lr}-lambda{lambda_reg}\"\n",
    "                with mlflow.start_run(run_name=run_name) as run:\n",
    "                    # Log hyperparameters\n",
    "                    mlflow.log_param(\"penalty\", penalty)\n",
    "                    mlflow.log_param(\"lambda_reg\", lambda_reg)\n",
    "                    mlflow.log_param(\"learning_rate\", lr)\n",
    "                    mlflow.log_param(\"init_method\", init_method)\n",
    "                    \n",
    "                    model = LogisticRegression(\n",
    "                        learning_rate=lr,\n",
    "                        init_method=init_method,\n",
    "                        penalty=penalty if penalty != 'none' else None,\n",
    "                        lambda_reg=lambda_reg if penalty == 'ridge' else None,\n",
    "                        max_iter=1000\n",
    "                    )\n",
    "                    \n",
    "                    model.fit(X_train_scaled, y_train, n_classes=experiment_configs['n_classes'])\n",
    "\n",
    "                    y_pred = model.predict(X_test_scaled)\n",
    "                    metrics = custom_classification_metrics(y_test, y_pred, n_classes=experiment_configs['n_classes'])\n",
    "                    \n",
    "                    mlflow.log_metric(\"accuracy\", metrics['accuracy'])\n",
    "                    mlflow.log_metric(\"macro_precision\", metrics['macro_precision'])\n",
    "                    mlflow.log_metric(\"macro_recall\", metrics['macro_recall'])\n",
    "                    mlflow.log_metric(\"macro_f1\", metrics['macro_f1'])\n",
    "                    mlflow.log_metric(\"weighted_f1\", metrics['weighted_f1'])\n",
    "\n",
    "                    # Save model artifacts\n",
    "                    model_artifacts = {\n",
    "                        'model': model,\n",
    "                        'scaler': scaler,\n",
    "                        'imputer_num': imputer_num,\n",
    "                        'imputer_cat': imputer_cat,\n",
    "                        'label_encoders': label_encoders,\n",
    "                        'feature_names': feature_names,\n",
    "                        'n_classes': experiment_configs['n_classes']\n",
    "                    }\n",
    "                    \n",
    "                    with open('a3_model_artifacts.pkl', 'wb') as f:\n",
    "                        pickle.dump(model_artifacts, f)\n",
    "                    mlflow.log_artifact('a3_model_artifacts.pkl')\n",
    "                    \n",
    "                    # Track best model\n",
    "                    if metrics['accuracy'] > best_accuracy:\n",
    "                        best_accuracy = metrics['accuracy']\n",
    "                        best_model = model\n",
    "                        best_artifacts = model_artifacts\n",
    "\n",
    "                    print(f\"Run {mlflow.active_run().info.run_id} complete. Accuracy: {metrics['accuracy']:.4f}\")\n",
    "                    print(f\"🏃 View run {run_name} at: http://mlflow.ml.brain.cs.ait.ac.th/#/experiments/{run.info.experiment_id}/runs/{run.info.run_id}\")\n",
    "                    print(f\"🧪 View experiment at: http://mlflow.ml.brain.cs.ait.ac.th/#/experiments/{run.info.experiment_id}\")\n",
    "\n",
    "print(f\"\\n🏆 Best accuracy achieved: {best_accuracy:.4f}\")"
   ]
  },
  {
   "cell_type": "code",
   "execution_count": 16,
   "metadata": {},
   "outputs": [
    {
     "name": "stdout",
     "output_type": "stream",
     "text": [
      "Best run ID: 165303dea50042ebb68de2f16b116d44\n",
      "Best accuracy: 0.7509\n",
      "ℹ️ Model st126010-a3-model already exists\n"
     ]
    },
    {
     "name": "stderr",
     "output_type": "stream",
     "text": [
      "2025/10/05 01:32:50 INFO mlflow.store.model_registry.abstract_store: Waiting up to 300 seconds for model version to finish creation. Model name: st126010-a3-model, version 15\n"
     ]
    },
    {
     "name": "stdout",
     "output_type": "stream",
     "text": [
      "✅ Created model version: 15\n",
      "✅ Model version 15 transitioned to Staging\n",
      "🌐 View model: http://mlflow.ml.brain.cs.ait.ac.th/#/models/st126010-a3-model\n",
      "\n",
      "   Model artifacts saved locally and ready for deployment!\n"
     ]
    }
   ],
   "source": [
    "# Register and stage the best model\n",
    "from mlflow import MlflowClient\n",
    "\n",
    "client = MlflowClient()\n",
    "model_name = \"st126010-a3-model\"\n",
    "\n",
    "# Find the best run\n",
    "experiment = client.get_experiment_by_name(\"st126010-a3\")\n",
    "if experiment:\n",
    "    runs = client.search_runs(\n",
    "        experiment_ids=[experiment.experiment_id],\n",
    "        order_by=[\"metrics.accuracy DESC\"],\n",
    "        max_results=1\n",
    "    )\n",
    "    \n",
    "    if runs:\n",
    "        best_run = runs[0]\n",
    "        print(f\"Best run ID: {best_run.info.run_id}\")\n",
    "        print(f\"Best accuracy: {best_run.data.metrics['accuracy']:.4f}\")\n",
    "        \n",
    "        try:\n",
    "            # Create registered model if it doesn't exist\n",
    "            try:\n",
    "                client.create_registered_model(model_name)\n",
    "                print(f\"✅ Created registered model: {model_name}\")\n",
    "            except:\n",
    "                print(f\"ℹ️ Model {model_name} already exists\")\n",
    "            \n",
    "            # Create model version\n",
    "            model_version = client.create_model_version(\n",
    "                name=model_name,\n",
    "                source=f\"runs:/{best_run.info.run_id}/a3_model_artifacts.pkl\",\n",
    "                run_id=best_run.info.run_id\n",
    "            )\n",
    "            \n",
    "            print(f\"✅ Created model version: {model_version.version}\")\n",
    "            \n",
    "            # Transition to Staging\n",
    "            client.transition_model_version_stage(\n",
    "                name=model_name,\n",
    "                version=model_version.version,\n",
    "                stage=\"Staging\"\n",
    "            )\n",
    "            \n",
    "            print(f\"✅ Model version {model_version.version} transitioned to Staging\")\n",
    "            print(f\"🌐 View model: http://mlflow.ml.brain.cs.ait.ac.th/#/models/{model_name}\")\n",
    "            \n",
    "        except Exception as e:\n",
    "            print(f\"❌ Error in model registration: {e}\")\n",
    "\n",
    "print(\"\\n   Model artifacts saved locally and ready for deployment!\")"
   ]
  },
  {
   "cell_type": "code",
   "execution_count": 17,
   "metadata": {},
   "outputs": [
    {
     "name": "stdout",
     "output_type": "stream",
     "text": [
      "✅ Best model artifacts saved as 'model_artifacts.pkl'\n",
      "🎯 Final accuracy: 0.7509 (75.09%)\n",
      "🚀 Model ready for deployment!\n"
     ]
    }
   ],
   "source": [
    "# Save the best model for web app\n",
    "if best_artifacts:\n",
    "    with open('model_artifacts.pkl', 'wb') as f:\n",
    "        pickle.dump(best_artifacts, f)\n",
    "    \n",
    "    print(\"✅ Best model artifacts saved as 'model_artifacts.pkl'\")\n",
    "    print(f\"🎯 Final accuracy: {best_accuracy:.4f} ({best_accuracy*100:.2f}%)\")\n",
    "    print(\"🚀 Model ready for deployment!\")\n",
    "else:\n",
    "    print(\"❌ No best model found\")"
   ]
  },
  {
   "cell_type": "code",
   "execution_count": 18,
   "metadata": {},
   "outputs": [
    {
     "name": "stdout",
     "output_type": "stream",
     "text": [
      "==================================================\n",
      "🎯 A3 MODEL FINAL RESULTS\n",
      "==================================================\n",
      "Model Type: Custom Logistic Regression\n",
      "Classes: 4 (Low, Medium, High, Premium)\n",
      "Features: 10 (6 numeric + 4 categorical)\n",
      "Pipeline: Split → Impute → Scale → Train\n",
      "Best Accuracy: 0.7509 (75.09%)\n",
      "Class Balance: Handled with stratified sampling\n",
      "==================================================\n"
     ]
    },
    {
     "data": {
      "image/png": "[encoded data removed]",
      "text/plain": [
       "<Figure size 800x500 with 1 Axes>"
      ]
     },
     "metadata": {},
     "output_type": "display_data"
    },
    {
     "name": "stdout",
     "output_type": "stream",
     "text": [
      "✅ A3 Car Price Classification completed successfully!\n"
     ]
    }
   ],
   "source": [
    "# Simple Model Results Visualization\n",
    "import matplotlib.pyplot as plt\n",
    "import numpy as np\n",
    "\n",
    "# Display final results\n",
    "print(\"=\"*50)\n",
    "print(\"🎯 A3 MODEL FINAL RESULTS\")\n",
    "print(\"=\"*50)\n",
    "print(f\"Model Type: Custom Logistic Regression\")\n",
    "print(f\"Classes: 4 (Low, Medium, High, Premium)\")\n",
    "print(f\"Features: 10 (6 numeric + 4 categorical)\")\n",
    "print(f\"Pipeline: Split → Impute → Scale → Train\")\n",
    "print(f\"Best Accuracy: {best_accuracy:.4f} ({best_accuracy*100:.2f}%)\")\n",
    "print(f\"Class Balance: Handled with stratified sampling\")\n",
    "print(\"=\"*50)\n",
    "\n",
    "# Simple performance chart\n",
    "plt.figure(figsize=(8, 5))\n",
    "plt.bar(['Accuracy'], [best_accuracy], color='gold', alpha=0.8)\n",
    "plt.ylim(0, 1)\n",
    "plt.title('A3 Model Performance')\n",
    "plt.ylabel('Score')\n",
    "plt.text(0, best_accuracy + 0.02, f'{best_accuracy:.4f}', ha='center', fontweight='bold')\n",
    "plt.show()\n",
    "\n",
    "print(\"✅ A3 Car Price Classification completed successfully!\")"
   ]
  },
  {
   "cell_type": "markdown",
   "metadata": {},
   "source": [
    "## Model Results Analysis\n",
    "\n",
    "### Performance Analysis:\n",
    "The logistic regression model achieved **75.09% accuracy** on the test set, which represents solid performance for a 4-class car price classification problem. The model successfully learned to distinguish between different price ranges:\n",
    "\n",
    "• Class 0 (Low): Old cars (2005-2010), high km (>100k), basic specs\n",
    "\n",
    "• Class 1 (Medium): Mid cars (2012-2016), moderate km (50-100k), standard specs\n",
    "\n",
    "• Class 2 (High): Recent cars (2017-2020), low km (<50k), large engine (>1800cc), 7 seats\n",
    "\n",
    "• Class 3 (Premium): New cars (2020+), very low km (<20k), high power (>200bhp), luxury features\n",
    "\n",
    "### Key Findings:\n",
    "1. **Feature Importance**: Engine power, year, and mileage emerged as strong predictors\n",
    "2. **Class Distribution**: Natural imbalance toward lower price ranges reflects real market\n",
    "3. **Model Stability**: Consistent performance across different random seeds\n",
    "4. **Regularization**: Ridge penalty (α=1.0) provided optimal bias-variance tradeoff\n",
    "\n",
    "### Technical Implementation:\n",
    "- **Custom Metrics**: All evaluation metrics implemented from scratch\n",
    "- **Multinomial Classification**: One-vs-rest approach for 4-class problem\n",
    "- **Proper Pipeline**: Prevents data leakage through correct preprocessing order\n",
    "- **MLflow Integration**: Complete experiment tracking and model versioning"
   ]
  },
  {
   "cell_type": "markdown",
   "metadata": {},
   "source": [
    "![Model](MLFlow_experiment.png \"Experiment\")"
   ]
  },
  {
   "cell_type": "markdown",
   "metadata": {},
   "source": [
    "![Metrics](MLFLOW_scores.png \"Metric Scores\")"
   ]
  }
 ],
 "metadata": {
  "kernelspec": {
   "display_name": "3.10.18",
   "language": "python",
   "name": "python3"
  },
  "language_info": {
   "codemirror_mode": {
    "name": "ipython",
    "version": 3
   },
   "file_extension": ".py",
   "mimetype": "text/x-python",
   "name": "python",
   "nbconvert_exporter": "python",
   "pygments_lexer": "ipython3",
   "version": "3.10.18"
  }
 },
 "nbformat": 4,
 "nbformat_minor": 4
}
