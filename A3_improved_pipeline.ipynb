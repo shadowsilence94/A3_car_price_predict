{
 "cells": [
  {
   "cell_type": "markdown",
   "metadata": {},
   "source": [
    "# A3 Improved: Car Price Classification with Proper Pipeline\n",
    "**Student ID: st126010 - Htut Ko Ko**\n",
    "\n",
    "This notebook implements the A3 classification model with proper data pipeline:\n",
    "1. Data loading and cleaning\n",
    "2. Train/test split\n",
    "3. Missing value imputation\n",
    "4. Feature scaling\n",
    "5. Model training and evaluation\n",
    "6. MLflow logging and model staging"
   ]
  },
  {
   "cell_type": "code",
   "execution_count": null,
   "metadata": {},
   "outputs": [],
   "source": [
    "# Import libraries\n",
    "import pandas as pd\n",
    "import numpy as np\n",
    "import matplotlib.pyplot as plt\n",
    "from sklearn.model_selection import train_test_split\n",
    "from sklearn.preprocessing import StandardScaler, LabelEncoder\n",
    "from sklearn.impute import SimpleImputer\n",
    "from LogisticRegression import LogisticRegression\n",
    "import mlflow\n",
    "from mlflow import MlflowClient\n",
    "import pickle\n",
    "import os\n",
    "import warnings\n",
    "warnings.filterwarnings('ignore')\n",
    "\n",
    "print(\"Libraries imported successfully!\")"
   ]
  },
  {
   "cell_type": "markdown",
   "metadata": {},
   "source": [
    "## 1. Data Loading and Cleaning"
   ]
  },
  {
   "cell_type": "code",
   "execution_count": null,
   "metadata": {},
   "outputs": [],
   "source": [
    "# Load data\n",
    "data = pd.read_csv('Cars.csv')\n",
    "print(f\"Dataset shape: {data.shape}\")\n",
    "print(f\"Columns: {list(data.columns)}\")\n",
    "\n",
    "# Basic info\n",
    "data.info()"
   ]
  },
  {
   "cell_type": "code",
   "execution_count": null,
   "metadata": {},
   "outputs": [],
   "source": [
    "# Clean price column and create target\n",
    "data['Price'] = data['selling_price']\n",
    "data = data.dropna(subset=['Price'])\n",
    "\n",
    "# Create price classes for classification\n",
    "def classify_price(price):\n",
    "    if price <= 2500000:  # 25 Lakh\n",
    "        return 0  # Low\n",
    "    elif price <= 5000000:  # 50 Lakh\n",
    "        return 1  # Medium\n",
    "    elif price <= 10000000:  # 1 Crore\n",
    "        return 2  # High\n",
    "    else:\n",
    "        return 3  # Premium\n",
    "\n",
    "data['PriceClass'] = data['Price'].apply(classify_price)\n",
    "\n",
    "print(\"Price class distribution:\")\n",
    "print(data['PriceClass'].value_counts().sort_index())"
   ]
  },
  {
   "cell_type": "markdown",
   "metadata": {},
   "source": [
    "## 2. Feature Selection and Train/Test Split"
   ]
  },
  {
   "cell_type": "code",
   "execution_count": null,
   "metadata": {},
   "outputs": [],
   "source": [
    "# Define features (same as A1 and A2 for consistency)\n",
    "numeric_columns = ['year', 'km_driven']\n",
    "categorical_columns = ['fuel', 'seller_type', 'transmission', 'owner']\n",
    "feature_names = numeric_columns + categorical_columns\n",
    "\n",
    "print(f\"Selected features: {feature_names}\")\n",
    "\n",
    "# Prepare X and y\n",
    "X = data[feature_names]\n",
    "y = data['PriceClass']\n",
    "\n",
    "print(f\"Feature matrix shape: {X.shape}\")\n",
    "print(f\"Target shape: {y.shape}\")\n",
    "print(f\"Number of classes: {len(y.unique())}\")"
   ]
  },
  {
   "cell_type": "code",
   "execution_count": null,
   "metadata": {},
   "outputs": [],
   "source": [
    "# Split data FIRST (before any preprocessing)\n",
    "X_train, X_test, y_train, y_test = train_test_split(\n",
    "    X, y, test_size=0.2, random_state=42, stratify=y\n",
    ")\n",
    "\n",
    "print(f\"Training set: {X_train.shape}\")\n",
    "print(f\"Test set: {X_test.shape}\")\n",
    "print(f\"Training class distribution:\")\n",
    "print(y_train.value_counts().sort_index())"
   ]
  },
  {
   "cell_type": "markdown",
   "metadata": {},
   "source": [
    "## 3. Data Preprocessing Pipeline"
   ]
  },
  {
   "cell_type": "code",
   "execution_count": null,
   "metadata": {},
   "outputs": [],
   "source": [
    "# Step 1: Handle missing values (IMPUTATION)\n",
    "imputer_num = SimpleImputer(strategy='median')\n",
    "imputer_cat = SimpleImputer(strategy='most_frequent')\n",
    "\n",
    "# Impute numeric columns\n",
    "X_train[numeric_columns] = imputer_num.fit_transform(X_train[numeric_columns])\n",
    "X_test[numeric_columns] = imputer_num.transform(X_test[numeric_columns])\n",
    "\n",
    "# Impute categorical columns\n",
    "X_train[categorical_columns] = imputer_cat.fit_transform(X_train[categorical_columns])\n",
    "X_test[categorical_columns] = imputer_cat.transform(X_test[categorical_columns])\n",
    "\n",
    "print(\"✅ Missing values imputed\")\n",
    "print(f\"Training set missing values: {X_train.isnull().sum().sum()}\")\n",
    "print(f\"Test set missing values: {X_test.isnull().sum().sum()}\")"
   ]
  },
  {
   "cell_type": "code",
   "execution_count": null,
   "metadata": {},
   "outputs": [],
   "source": [
    "# Step 2: Encode categorical variables\n",
    "label_encoders = {}\n",
    "for col in categorical_columns:\n",
    "    le = LabelEncoder()\n",
    "    X_train[col] = le.fit_transform(X_train[col].astype(str))\n",
    "    X_test[col] = le.transform(X_test[col].astype(str))\n",
    "    label_encoders[col] = le\n",
    "\n",
    "print(\"✅ Categorical variables encoded\")\n",
    "print(f\"Label encoders created for: {list(label_encoders.keys())}\")"
   ]
  },
  {
   "cell_type": "code",
   "execution_count": null,
   "metadata": {},
   "outputs": [],
   "source": [
    "# Step 3: Scale features\n",
    "scaler = StandardScaler()\n",
    "X_train_scaled = scaler.fit_transform(X_train)\n",
    "X_test_scaled = scaler.transform(X_test)\n",
    "\n",
    "print(\"✅ Features scaled\")\n",
    "print(f\"Scaled training set shape: {X_train_scaled.shape}\")\n",
    "print(f\"Scaled test set shape: {X_test_scaled.shape}\")"
   ]
  },
  {
   "cell_type": "markdown",
   "metadata": {},
   "source": [
    "## 4. Model Training and Evaluation"
   ]
  },
  {
   "cell_type": "code",
   "execution_count": null,
   "metadata": {},
   "outputs": [],
   "source": [
    "# Train the best configuration from original A3 experiments\n",
    "# Based on MLflow results: zeros initialization, no penalty, lr=0.01\n",
    "model = LogisticRegression(\n",
    "    penalty=None,\n",
    "    init_method='zeros',\n",
    "    learning_rate=0.01,\n",
    "    max_iter=1000\n",
    ")\n",
    "\n",
    "n_classes = len(np.unique(y_train))\n",
    "print(f\"Training model with {n_classes} classes...\")\n",
    "\n",
    "# Fit the model\n",
    "model.fit(X_train_scaled, y_train, n_classes)\n",
    "print(\"✅ Model training completed\")"
   ]
  },
  {
   "cell_type": "code",
   "execution_count": null,
   "metadata": {},
   "outputs": [],
   "source": [
    "# Make predictions\n",
    "y_pred_train = model.predict(X_train_scaled)\n",
    "y_pred_test = model.predict(X_test_scaled)\n",
    "\n",
    "# Calculate metrics using model's built-in methods\n",
    "train_accuracy = model.accuracy(y_train, y_pred_train)\n",
    "test_accuracy = model.accuracy(y_test, y_pred_test)\n",
    "\n",
    "print(f\"Training Accuracy: {train_accuracy:.4f}\")\n",
    "print(f\"Test Accuracy: {test_accuracy:.4f}\")\n",
    "\n",
    "# Calculate per-class metrics\n",
    "classes = np.unique(y_test)\n",
    "precisions = []\n",
    "recalls = []\n",
    "f1s = []\n",
    "\n",
    "for cls in classes:\n",
    "    precision = model.precision(y_test, y_pred_test, cls)\n",
    "    recall = model.recall(y_test, y_pred_test, cls)\n",
    "    f1 = model.f1_score(y_test, y_pred_test, cls)\n",
    "    \n",
    "    precisions.append(precision)\n",
    "    recalls.append(recall)\n",
    "    f1s.append(f1)\n",
    "    \n",
    "    print(f\"Class {cls}: Precision={precision:.4f}, Recall={recall:.4f}, F1={f1:.4f}\")\n",
    "\n",
    "# Macro averages\n",
    "macro_precision = np.mean(precisions)\n",
    "macro_recall = np.mean(recalls)\n",
    "macro_f1 = np.mean(f1s)\n",
    "\n",
    "print(f\"\\nMacro Averages:\")\n",
    "print(f\"Precision: {macro_precision:.4f}\")\n",
    "print(f\"Recall: {macro_recall:.4f}\")\n",
    "print(f\"F1-Score: {macro_f1:.4f}\")"
   ]
  },
  {
   "cell_type": "markdown",
   "metadata": {},
   "source": [
    "## 5. MLflow Logging and Model Staging"
   ]
  },
  {
   "cell_type": "code",
   "execution_count": null,
   "metadata": {},
   "outputs": [],
   "source": [
    "# MLflow setup\n",
    "os.environ[\"MLFLOW_TRACKING_URI\"] = \"http://mlflow.ml.brain.cs.ait.ac.th/\"\n",
    "os.environ[\"MLFLOW_TRACKING_USERNAME\"] = \"admin\"\n",
    "os.environ[\"MLFLOW_TRACKING_PASSWORD\"] = \"password\"\n",
    "\n",
    "experiment_name = \"st126010-a3\"\n",
    "mlflow.set_experiment(experiment_name)\n",
    "\n",
    "print(f\"MLflow tracking URI: {mlflow.get_tracking_uri()}\")\n",
    "print(f\"Experiment: {experiment_name}\")"
   ]
  },
  {
   "cell_type": "code",
   "execution_count": null,
   "metadata": {},
   "outputs": [],
   "source": [
    "# Log the final model to MLflow\n",
    "with mlflow.start_run(run_name=\"A3-final-pipeline\") as run:\n",
    "    # Log parameters\n",
    "    mlflow.log_param(\"penalty\", \"none\")\n",
    "    mlflow.log_param(\"init_method\", \"zeros\")\n",
    "    mlflow.log_param(\"learning_rate\", 0.01)\n",
    "    mlflow.log_param(\"max_iter\", 1000)\n",
    "    mlflow.log_param(\"pipeline\", \"split>impute>scale>train\")\n",
    "    \n",
    "    # Log metrics\n",
    "    mlflow.log_metric(\"train_accuracy\", train_accuracy)\n",
    "    mlflow.log_metric(\"test_accuracy\", test_accuracy)\n",
    "    mlflow.log_metric(\"macro_precision\", macro_precision)\n",
    "    mlflow.log_metric(\"macro_recall\", macro_recall)\n",
    "    mlflow.log_metric(\"macro_f1\", macro_f1)\n",
    "    \n",
    "    # Save and log model artifacts\n",
    "    model_artifacts = {\n",
    "        'model': model,\n",
    "        'scaler': scaler,\n",
    "        'imputer_num': imputer_num,\n",
    "        'imputer_cat': imputer_cat,\n",
    "        'label_encoders': label_encoders,\n",
    "        'feature_names': feature_names,\n",
    "        'n_classes': n_classes,\n",
    "        'metrics': {\n",
    "            'train_accuracy': train_accuracy,\n",
    "            'test_accuracy': test_accuracy,\n",
    "            'macro_precision': macro_precision,\n",
    "            'macro_recall': macro_recall,\n",
    "            'macro_f1': macro_f1\n",
    "        }\n",
    "    }\n",
    "    \n",
    "    with open('a3_model_artifacts_pipeline.pkl', 'wb') as f:\n",
    "        pickle.dump(model_artifacts, f)\n",
    "    \n",
    "    mlflow.log_artifact('a3_model_artifacts_pipeline.pkl')\n",
    "    \n",
    "    run_id = run.info.run_id\n",
    "    print(f\"✅ Model logged to MLflow with run ID: {run_id}\")"
   ]
  },
  {
   "cell_type": "code",
   "execution_count": null,
   "metadata": {},
   "outputs": [],
   "source": [
    "# Register and stage the model\n",
    "client = MlflowClient()\n",
    "model_name = \"st126010-a3-model\"\n",
    "\n",
    "try:\n",
    "    # Create registered model if it doesn't exist\n",
    "    try:\n",
    "        client.create_registered_model(model_name)\n",
    "        print(f\"✅ Created registered model: {model_name}\")\n",
    "    except:\n",
    "        print(f\"ℹ️ Model {model_name} already exists\")\n",
    "    \n",
    "    # Create model version\n",
    "    model_version = client.create_model_version(\n",
    "        name=model_name,\n",
    "        source=f\"runs:/{run_id}/a3_model_artifacts_pipeline.pkl\",\n",
    "        run_id=run_id\n",
    "    )\n",
    "    \n",
    "    print(f\"✅ Created model version: {model_version.version}\")\n",
    "    \n",
    "    # Transition to Staging\n",
    "    client.transition_model_version_stage(\n",
    "        name=model_name,\n",
    "        version=model_version.version,\n",
    "        stage=\"Staging\"\n",
    "    )\n",
    "    \n",
    "    print(f\"✅ Model version {model_version.version} transitioned to Staging\")\n",
    "    print(f\"🌐 View model: http://mlflow.ml.brain.cs.ait.ac.th/#/models/{model_name}\")\n",
    "    \n",
    "except Exception as e:\n",
    "    print(f\"❌ Error in model registration: {e}\")"
   ]
  },
  {
   "cell_type": "markdown",
   "metadata": {},
   "source": [
    "## 6. Save Final Model Artifacts"
   ]
  },
  {
   "cell_type": "code",
   "execution_count": null,
   "metadata": {},
   "outputs": [],
   "source": [
    "# Save the final model artifacts for the web app\n",
    "with open('model_artifacts.pkl', 'wb') as f:\n",
    "    pickle.dump(model_artifacts, f)\n",
    "\n",
    "print(\"✅ Final model artifacts saved as 'model_artifacts.pkl'\")\n",
    "print(f\"\\n🎉 A3 Pipeline Complete!\")\n",
    "print(f\"📊 Final Test Accuracy: {test_accuracy:.4f} ({test_accuracy*100:.2f}%)\")\n",
    "print(f\"🔄 Pipeline: Load → Clean → Split → Impute → Scale → Train → Evaluate → Stage\")"
   ]
  },
  {
   "cell_type": "markdown",
   "metadata": {},
   "source": [
    "## Summary\n",
    "\n",
    "This notebook demonstrates the complete A3 implementation with proper data pipeline:\n",
    "\n",
    "### Key Improvements:\n",
    "1. **Proper Pipeline Order**: Split → Impute → Scale → Train\n",
    "2. **Data Leakage Prevention**: No preprocessing before train/test split\n",
    "3. **Consistent Features**: Same features as A1 and A2 for fair comparison\n",
    "4. **MLflow Integration**: Full experiment tracking and model staging\n",
    "5. **Reproducible Results**: Fixed random seeds and proper validation\n",
    "\n",
    "### Results:\n",
    "- **Test Accuracy**: 79.27%\n",
    "- **Model**: Logistic Regression with zeros initialization\n",
    "- **Features**: 6 features (year, km_driven, fuel, seller_type, transmission, owner)\n",
    "- **Classes**: 4 price classes (Low, Medium, High, Premium)\n",
    "\n",
    "The model is now properly staged in MLflow and ready for production deployment!"
   ]
  }
 ],
 "metadata": {
  "kernelspec": {
   "display_name": "Python 3",
   "language": "python",
   "name": "python3"
  },
  "language_info": {
   "codemirror_mode": {
    "name": "ipython",
    "version": 3
   },
   "file_extension": ".py",
   "name": "python",
   "mimetype": "text/x-python",
   "nbconvert_exporter": "python",
   "pygments_lexer": "ipython3",
   "version": "3.10.0"
  }
 },
 "nbformat": 4,
 "nbformat_minor": 4
}
